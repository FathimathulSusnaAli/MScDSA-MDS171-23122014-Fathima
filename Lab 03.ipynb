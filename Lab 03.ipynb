{
 "cells": [
  {
   "cell_type": "markdown",
   "metadata": {},
   "source": [
    "# **LAB:03**\n",
    "### **Concept Used**\n",
    "##### **The Tale of Numbers' Harmony**\n",
    "\n",
    "##### The concept used here is a user-defined function which is primary() for each questions, this could provide output. The very first checking is through taking the following steps:\n",
    "\n",
    "##### `1.` Finding the mean by counting the number of elements and sum of them which later dividing the sum by the number of elements.\n",
    "##### `2.` The maximum number by fixing the very first number and seeing whether it is greater to that and if so it is switched. Similar with the smallest value.\n",
    "##### `3.` Now taking the range by taking the maximum minum minimum value from the list.\n",
    "##### `4.` Finding the mode.\n",
    "\n"
   ]
  },
  {
   "cell_type": "code",
   "execution_count": 4,
   "metadata": {},
   "outputs": [],
   "source": [
    "Numberharmony = [761, 123, 585, 275, 194, 840, 999, 622, 763, 40, 825, 687, 402, 338, 611, 987, 739, 95, 819, 568, 320, 126, \n",
    " 688, 948, 514, 223, 751, 379, 857, 767, 492, 162, 437, 934, 430, 343, 725, 511, 580, 678, 708, 823, 346, 179, \n",
    " 786, 663, 195, 890, 267, 502, 214, 300, 786, 961, 235, 559, 992, 919, 948, 318, 57, 787, 653, 317, 305, 172, \n",
    " 966, 182, 970, 17, 89, 624, 629, 595, 485, 752, 984, 978, 460, 124, 321, 256, 614, 852, 811, 561, 127, 207, 406, \n",
    " 615, 888, 391, 691, 470, 911, 401, 137, 600, 478, 682]\n"
   ]
  },
  {
   "cell_type": "code",
   "execution_count": 27,
   "metadata": {},
   "outputs": [],
   "source": [
    "def primary(list1):    \n",
    "    variable1=0\n",
    "    variable2=0\n",
    "    for i in Numberharmony:   #MEAN\n",
    "        variable1+=1\n",
    "        variable2+=i\n",
    "        mean=variable2/variable1\n",
    "    print(\"The Mean of the given list is: \",mean)\n",
    "\n",
    "\n",
    "def primary2(list1):\n",
    "    variable3=list1[0]\n",
    "    for j in list1:\n",
    "        if j>variable3:\n",
    "            variable3=j\n",
    "    print(\"The Maximum number from the given list is: \",variable3)\n",
    "\n",
    "def primary3(list1):\n",
    "    variable4=list1[0]\n",
    "    for j in list1:\n",
    "        if j<variable4:\n",
    "            variable4=j\n",
    "    print(\"The Minimum number from the given list is: \",variable4)\n",
    "\n",
    "def primary4(list1):\n",
    "    variable4=list1[0]\n",
    "    variable3=list1[0]\n",
    "    for j in list1:\n",
    "        if j<variable4:\n",
    "            variable4=j\n",
    "        for l in list1:\n",
    "            if l>variable3:\n",
    "                variable3=l\n",
    "    #     return variable3\n",
    "    # return variable4\n",
    "    print(\"The Range of the given list is :\", variable3-variable4)\n",
    "\n",
    "\n",
    "\n",
    "\n",
    "\n"
   ]
  },
  {
   "cell_type": "code",
   "execution_count": 35,
   "metadata": {},
   "outputs": [
    {
     "name": "stdout",
     "output_type": "stream",
     "text": [
      "The mode of the given list is:  948\n"
     ]
    }
   ],
   "source": [
    "def find_mode(numbers):\n",
    "    number_count = {}\n",
    "\n",
    "    for num in numbers:\n",
    "        if num in number_count:\n",
    "            number_count[num] += 1\n",
    "        else:\n",
    "            number_count[num] = 1\n",
    "\n",
    "    mode = 0\n",
    "    max_count = 0\n",
    "    for num in number_count:\n",
    "        count = number_count[num]\n",
    "        if count > max_count:\n",
    "            mode = num\n",
    "            max_count = count\n",
    "    print(\"The mode of the given list is: \",mode)\n",
    "\n",
    "\n",
    "find_mode(Numberharmony)\n",
    "\n"
   ]
  },
  {
   "cell_type": "code",
   "execution_count": 37,
   "metadata": {},
   "outputs": [
    {
     "name": "stdout",
     "output_type": "stream",
     "text": [
      "The Mean of the given list is:  542.94\n",
      "The Mean using the built in function 542.94\n"
     ]
    }
   ],
   "source": [
    "primary(Numberharmony)\n",
    "# built in function\n",
    "length=len(Numberharmony)\n",
    "mean = sum(Numberharmony)/length\n",
    "print(\"The Mean using the built in function\",mean)\n"
   ]
  },
  {
   "cell_type": "code",
   "execution_count": 40,
   "metadata": {},
   "outputs": [
    {
     "name": "stdout",
     "output_type": "stream",
     "text": [
      "The Maximum number from the given list is:  999\n",
      "The Maximum Number using built in Function 999\n"
     ]
    }
   ],
   "source": [
    "primary2(Numberharmony)\n",
    "# built in function\n",
    "maximum=max(Numberharmony)\n",
    "print(\"The Maximum Number using built in Function\",maximum)"
   ]
  },
  {
   "cell_type": "code",
   "execution_count": 43,
   "metadata": {},
   "outputs": [
    {
     "name": "stdout",
     "output_type": "stream",
     "text": [
      "The Minimum number from the given list is:  17\n",
      "The Minimum Number using built in Function 17\n"
     ]
    }
   ],
   "source": [
    "primary3(Numberharmony)\n",
    "minimum=min(Numberharmony)\n",
    "print(\"The Minimum Number using built in Function\",minimum)"
   ]
  },
  {
   "cell_type": "code",
   "execution_count": 44,
   "metadata": {},
   "outputs": [
    {
     "name": "stdout",
     "output_type": "stream",
     "text": [
      "The Range of the given list is : 982\n",
      "The Range using the built in Funtion: 982\n"
     ]
    }
   ],
   "source": [
    "primary4(Numberharmony)\n",
    "Range = maximum-minimum\n",
    "print(\"The Range using the built in Funtion:\",Range )"
   ]
  },
  {
   "cell_type": "code",
   "execution_count": null,
   "metadata": {},
   "outputs": [],
   "source": []
  }
 ],
 "metadata": {
  "kernelspec": {
   "display_name": "Python 3",
   "language": "python",
   "name": "python3"
  },
  "language_info": {
   "codemirror_mode": {
    "name": "ipython",
    "version": 3
   },
   "file_extension": ".py",
   "mimetype": "text/x-python",
   "name": "python",
   "nbconvert_exporter": "python",
   "pygments_lexer": "ipython3",
   "version": "3.11.4"
  },
  "orig_nbformat": 4
 },
 "nbformat": 4,
 "nbformat_minor": 2
}
