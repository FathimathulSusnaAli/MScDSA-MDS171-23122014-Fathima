{
 "cells": [
  {
   "cell_type": "code",
   "execution_count": 68,
   "metadata": {},
   "outputs": [
    {
     "name": "stdout",
     "output_type": "stream",
     "text": [
      "Not Found\n",
      "Not Found\n",
      "Not Found\n",
      "Not Found\n",
      "Not Found\n"
     ]
    }
   ],
   "source": [
    "class thangappan():\n",
    "\n",
    "    def __init__(self,name,age,gender):\n",
    "        self.name = name\n",
    "        self.age = age\n",
    "        self.gender = gender\n",
    "\n",
    "    def save_details(self):\n",
    "        with open(\"christ.csv\",\"a+\") as file:\n",
    "            file.write(self.name+\",\"+self.age+\",\"+self.gender+\"\\n\")\n",
    "\n",
    "    def show_details(self):\n",
    "            file =open(\"christ.csv\",\"r+\")\n",
    "            user_name = input(\"Enter the Name to search\")\n",
    "            for i in file.readlines():\n",
    "                new = i.strip().split(\",\")\n",
    "                if new[0] == user_name:\n",
    "                    print(new[0],new[1],new[2])\n",
    "                else:\n",
    "                    print(\"Not Found\")\n",
    "\n",
    "\n",
    "obj = thangappan(\"Fathima\",\"23\",\"Female\")\n",
    "# obj.save_details()\n",
    "obj.show_details()"
   ]
  },
  {
   "cell_type": "code",
   "execution_count": 60,
   "metadata": {},
   "outputs": [
    {
     "name": "stdout",
     "output_type": "stream",
     "text": [
      "Nikhil 22 Male\n"
     ]
    }
   ],
   "source": [
    "\n",
    "def show_details():\n",
    "    file =open(\"christ.csv\",\"r+\")\n",
    "    user_name = input(\"Enter the Name to search\")\n",
    "    for i in file.readlines():\n",
    "        file = i.strip().split(\",\")\n",
    "        if file[0] == user_name:\n",
    "            print(file[0],file[1],file[2])\n",
    "\n",
    "show_details()"
   ]
  },
  {
   "cell_type": "code",
   "execution_count": 44,
   "metadata": {},
   "outputs": [
    {
     "name": "stdout",
     "output_type": "stream",
     "text": [
      "Fathima,23,Female\n",
      "\n",
      "Nikhil,22,Male\n",
      "\n",
      "Jeffin,20,Male\n",
      "\n",
      "Naveen,20,Male\n",
      "\n",
      "\n",
      "\n"
     ]
    }
   ],
   "source": [
    "file =open(\"christ.csv\",\"r+\")\n",
    "for i in file.readlines():\n",
    "    print(i)"
   ]
  },
  {
   "cell_type": "code",
   "execution_count": null,
   "metadata": {},
   "outputs": [],
   "source": [
    "def show_details(self):\n",
    "        file =open(\"christ.csv\",\"r+\")\n",
    "        lines =file.readlines()\n",
    "        for line in lines:\n",
    "            tem = line.strip()\n",
    "            i = tem[0]\n",
    "            value = False\n",
    "            if i ==self.name:\n",
    "                value = True"
   ]
  },
  {
   "cell_type": "code",
   "execution_count": 6,
   "metadata": {},
   "outputs": [
    {
     "name": "stdout",
     "output_type": "stream",
     "text": [
      "The name is Fathima and occupations is Student\n"
     ]
    }
   ],
   "source": [
    "class Person:\n",
    "    name = \"Fathima\"\n",
    "    occupation = \"Student\"\n",
    "    networth = 5000\n",
    "    def info(self):\n",
    "        print(\"The name is {} and occupations is {}\".format(self.name,self.occupation))\n",
    "        \n",
    "\n",
    "obj1 = Person()\n",
    "obj1.info()"
   ]
  },
  {
   "cell_type": "markdown",
   "metadata": {
    "tags": [
     "parameters"
    ]
   },
   "source": [
    "### Create a class restaurant that accepts itemname and quantity as input\n",
    "### inside you class you are having the item and its price as a dictioanry\n",
    "### create a function calculate cost that prints the itemname, qty and price."
   ]
  },
  {
   "cell_type": "code",
   "execution_count": 23,
   "metadata": {},
   "outputs": [
    {
     "name": "stdout",
     "output_type": "stream",
     "text": [
      "1800\n"
     ]
    }
   ],
   "source": [
    "items_prices = {\"Rice\":450, \"Biriyani\":400,\"FriedRice\":500}\n",
    "class Restaurant():\n",
    "    def __init__(self,itemname,quantity):\n",
    "        self.itemnames = itemname\n",
    "        self.quantity = quantity\n",
    "    def total(self):\n",
    "        for i in items_prices:\n",
    "            total = 0\n",
    "            if i ==self.itemnames:\n",
    "                total = items_prices[i]*self.quantity\n",
    "                print(total)\n",
    "\n",
    "inputname = input(\"Enter the name\")\n",
    "inputquantity = int(input(\"Enter the number of quantity\"))\n",
    "obj1 = Restaurant(inputname,inputquantity)\n",
    "obj1.total()\n",
    "\n",
    "\n",
    "    \n"
   ]
  },
  {
   "cell_type": "markdown",
   "metadata": {},
   "source": [
    "#### Bank Account Class:\n",
    "#### Create a BankAccount class with methods for depositing and withdrawing money. Keep track of the account balance as an instance variable."
   ]
  },
  {
   "cell_type": "code",
   "execution_count": 31,
   "metadata": {},
   "outputs": [
    {
     "name": "stdout",
     "output_type": "stream",
     "text": [
      "4800\n",
      "200\n"
     ]
    }
   ],
   "source": [
    "balance = {\"Ram\":5000,\"Priya\":400}\n",
    "\n",
    "class BankAccount():\n",
    "    def __init__(self,Name):\n",
    "        self.name = Name\n",
    "        \n",
    "    def deposit(self,deposit):\n",
    "        self.Deposit = deposit\n",
    "        total = 0\n",
    "        for i in balance:\n",
    "            if balance[i]>=0:\n",
    "                if i ==self.name:\n",
    "                    total += balance[i]+self.Deposit\n",
    "                    print(total)\n",
    "    def withdraw(self,withdraw):\n",
    "        total = 0\n",
    "        self.Withdraw = withdraw\n",
    "        for i in balance:\n",
    "            if balance[i]>=0:\n",
    "                total = balance[i]-withdraw\n",
    "                print(total)\n",
    "\n",
    "\n",
    "Name = input(\"Enter the Name\")\n",
    "account = BankAccount(Name)\n",
    "amount = int(input(\"Enter the Amount\"))\n",
    "account.deposit(amount)\n",
    "withdraw = int(input(\"Amount to withdrawn\"))\n",
    "account.withdraw(withdraw)\n",
    "inputoption = int(input(\"Enter the Input\"))\n",
    "\n",
    "while True:\n",
    "    user_input = int(input(\"Enter the Input (1/2)\"))\n",
    "    print(\"1. To Deposit\")\n",
    "    print(\"2. To Withdraw\")\n",
    "\n",
    "    if user_input == 1:\n",
    "        user_deposit = int(input(\"Enter the Input\"))\n",
    "        print(Name,user_deposit)\n",
    "        account.deposit(user_deposit)\n",
    "    \n",
    "    elif user_input == 2:\n",
    "        user_withdraw == int(input(\"Enter the amount to Withdraw\"))\n",
    "        account.withdraw(user_withdraw)\n",
    "\n",
    "\n"
   ]
  },
  {
   "cell_type": "code",
   "execution_count": null,
   "metadata": {},
   "outputs": [
    {
     "name": "stdout",
     "output_type": "stream",
     "text": [
      "1. To Deposit\n",
      "2. To Withdraw\n",
      "1. To Deposit\n",
      "2. To Withdraw\n"
     ]
    },
    {
     "ename": "",
     "evalue": "",
     "output_type": "error",
     "traceback": [
      "\u001b[1;31mThe Kernel crashed while executing code in the the current cell or a previous cell. Please review the code in the cell(s) to identify a possible cause of the failure. Click <a href='https://aka.ms/vscodeJupyterKernelCrash'>here</a> for more info. View Jupyter <a href='command:jupyter.viewOutput'>log</a> for further details."
     ]
    }
   ],
   "source": [
    "balance = {\"Ram\":5000,\"Priya\":400}\n",
    "\n",
    "class BankAccount():\n",
    "    def __init__(self,Name):\n",
    "        self.name = Name\n",
    "        \n",
    "    def deposit(self,deposit):\n",
    "        self.Deposit = deposit\n",
    "        total = 0\n",
    "        for i in balance:\n",
    "            if balance[i]>=0:\n",
    "                if i ==self.name:\n",
    "                    total += balance[i]+self.Deposit\n",
    "                    print(total)\n",
    "    def withdraw(self,withdraw):\n",
    "        total = 0\n",
    "        self.Withdraw = withdraw\n",
    "        for i in balance:\n",
    "            if balance[i]>=0:\n",
    "                total = balance[i]-withdraw\n",
    "                print(total)\n",
    "\n",
    "\n",
    "Name = input(\"Enter the Name\")\n",
    "account = BankAccount(Name)\n",
    "# amount = int(input(\"Enter the Amount\"))\n",
    "# account.deposit(amount)\n",
    "# withdraw = int(input(\"Amount to withdrawn\"))\n",
    "# account.withdraw(withdraw)\n",
    "# inputoption = int(input(\"Enter the Input\"))\n",
    "\n",
    "while True:\n",
    "    user_input = int(input(\"Enter the Input (1/2)\"))\n",
    "    print(\"1. To Deposit\")\n",
    "    print(\"2. To Withdraw\")\n",
    "\n",
    "    if user_input == 1:\n",
    "        user_deposit = int(input(\"Enter the Input\"))\n",
    "        account.deposit(user_deposit)\n",
    "    \n",
    "    elif user_input == 2:\n",
    "        user_withdraw = int(input(\"Enter the amount to Withdraw\"))\n",
    "        account.withdraw(user_withdraw)\n",
    "\n",
    "    elif user_input == 3:\n",
    "        exit()\n",
    "\n",
    "\n"
   ]
  },
  {
   "cell_type": "code",
   "execution_count": 1,
   "metadata": {},
   "outputs": [
    {
     "name": "stdout",
     "output_type": "stream",
     "text": [
      "5000\n"
     ]
    }
   ],
   "source": [
    "balance = {\"Ram\":5000,\"Priya\":400}\n",
    "user_input = input(\"Enter the Input\")\n",
    "print(balance[\"Ram\"])"
   ]
  },
  {
   "cell_type": "code",
   "execution_count": 4,
   "metadata": {},
   "outputs": [
    {
     "data": {
      "text/plain": [
       "9"
      ]
     },
     "execution_count": 4,
     "metadata": {},
     "output_type": "execute_result"
    }
   ],
   "source": [
    "def functions(num1,num2):\n",
    "    summ = num1+num2\n",
    "    return summ\n",
    "\n",
    "# num1 = int(input(\"Enter\"))\n",
    "# num2 = int(input(\"Enter\"))\n",
    "functions(4,5)"
   ]
  },
  {
   "cell_type": "code",
   "execution_count": null,
   "metadata": {},
   "outputs": [],
   "source": [
    "# create a petstore class where you have the details of pets available and their details. The class will have methods\n",
    "# store a new pet detais\n",
    "# search for a pet\n",
    "# sell a pet\n",
    "# list all the pets\n",
    "\n",
    "# importing your petstore class, create a petstoremain file, where you will implement a menu driven program for admin \n",
    "# -who will manage the store and user who will see the pets and buy pets. "
   ]
  },
  {
   "cell_type": "code",
   "execution_count": 12,
   "metadata": {},
   "outputs": [],
   "source": [
    "class petstore:\n",
    "    def __init__(self) :\n",
    "        self.store = []\n",
    "\n",
    "    def storedetails(self,breed,price,name):\n",
    "        self.store.append({\n",
    "            \"\":breed,\n",
    "            \"\":price,\n",
    "            \"\":name\n",
    "        })\n",
    "    def searchpets(self):\n",
    "        pass\n",
    "    def sellpet(self,pet):\n",
    "        pass\n",
    "    def listallpet(self):\n",
    "        pass\n"
   ]
  },
  {
   "cell_type": "code",
   "execution_count": 13,
   "metadata": {},
   "outputs": [
    {
     "ename": "TypeError",
     "evalue": "petstore.__init__() takes 5 positional arguments but 7 were given",
     "output_type": "error",
     "traceback": [
      "\u001b[1;31m---------------------------------------------------------------------------\u001b[0m",
      "\u001b[1;31mTypeError\u001b[0m                                 Traceback (most recent call last)",
      "\u001b[1;32md:\\PythonClassNotes\\class.ipynb Cell 15\u001b[0m line \u001b[0;36m1\n\u001b[1;32m----> <a href='vscode-notebook-cell:/d%3A/PythonClassNotes/class.ipynb#X23sZmlsZQ%3D%3D?line=0'>1</a>\u001b[0m obj1\u001b[39m=\u001b[39mpetstore(\u001b[39m\"\u001b[39;49m\u001b[39mDog\u001b[39;49m\u001b[39m\"\u001b[39;49m,\u001b[39m\"\u001b[39;49m\u001b[39mCanis lupus familaris\u001b[39;49m\u001b[39m\"\u001b[39;49m, \u001b[39m\"\u001b[39;49m\u001b[39mLifespan with 15 years\u001b[39;49m\u001b[39m\"\u001b[39;49m,\u001b[39m\"\u001b[39;49m\u001b[39mCare with regular exercise\u001b[39;49m\u001b[39m\"\u001b[39;49m,\u001b[39m\"\u001b[39;49m\u001b[39mCat\u001b[39;49m\u001b[39m\"\u001b[39;49m,\u001b[39m\"\u001b[39;49m\u001b[39mDog\u001b[39;49m\u001b[39m\"\u001b[39;49m)\n\u001b[0;32m      <a href='vscode-notebook-cell:/d%3A/PythonClassNotes/class.ipynb#X23sZmlsZQ%3D%3D?line=1'>2</a>\u001b[0m obj1\u001b[39m.\u001b[39mstoredetails()\n",
      "\u001b[1;31mTypeError\u001b[0m: petstore.__init__() takes 5 positional arguments but 7 were given"
     ]
    }
   ],
   "source": [
    "obj1=petstore(\"Dog\",\"Cat\",\"Dog\")\n",
    "obj1.storedetails()"
   ]
  },
  {
   "cell_type": "code",
   "execution_count": 8,
   "metadata": {},
   "outputs": [
    {
     "name": "stdout",
     "output_type": "stream",
     "text": [
      "{}\n"
     ]
    }
   ],
   "source": [
    "listofpets = {\"Cat\":[\"Canis lupus familaris\", \"Lifespan with 15 years\",\"Care with regular exercise\"]}\n",
    "lis = [\"Canis lupus familaris\", \"Lifespan with 15 years\",\"Care with regular exercise\"]\n",
    "del listofpets[\"Cat\"]\n",
    "print(listofpets)"
   ]
  },
  {
   "cell_type": "code",
   "execution_count": null,
   "metadata": {},
   "outputs": [],
   "source": []
  },
  {
   "cell_type": "code",
   "execution_count": null,
   "metadata": {},
   "outputs": [],
   "source": []
  }
 ],
 "metadata": {
  "kernelspec": {
   "display_name": "Python 3",
   "language": "python",
   "name": "python3"
  },
  "language_info": {
   "codemirror_mode": {
    "name": "ipython",
    "version": 3
   },
   "file_extension": ".py",
   "mimetype": "text/x-python",
   "name": "python",
   "nbconvert_exporter": "python",
   "pygments_lexer": "ipython3",
   "version": "3.11.4"
  },
  "orig_nbformat": 4
 },
 "nbformat": 4,
 "nbformat_minor": 2
}
