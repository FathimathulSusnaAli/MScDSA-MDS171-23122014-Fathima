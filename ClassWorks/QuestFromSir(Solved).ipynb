{
 "cells": [
  {
   "cell_type": "code",
   "execution_count": null,
   "metadata": {},
   "outputs": [],
   "source": [
    "# Create a sportMart class, where you will have \n",
    "# -> inventory / shelf of items\n",
    "# -> Orders of customers\n",
    "\n",
    "# Create csv file which will store your inventory details and order details\n",
    "\n",
    "# with the help of file handling technqiues in python, read the file and create an object for trinity store and populate the inventory items and orders into the trinity store.\n",
    "\n",
    "# to make sure that you have added all the items in your file, use a display method to show your inventory and order history.\n",
    "\n",
    "\n",
    "# -------------------"
   ]
  },
  {
   "cell_type": "code",
   "execution_count": 2,
   "metadata": {},
   "outputs": [
    {
     "name": "stdout",
     "output_type": "stream",
     "text": [
      "['ShelfId', 'Product', 'Quantity', 'Price', 'Brand']\n",
      "['100', 'Cooldrinks', '200', '6000', 'Cocacola']\n",
      "['101', 'Bread', '50', '3000', 'Britania']\n",
      "['102', 'Milk', '50', '2500', 'Milma']\n",
      "['103', 'Jam', '200', '2600', 'JimJam']\n",
      "['104', 'Chips', '300', '3000', 'Lays']\n",
      "['105', 'Cheese', '100', '2566', 'Amul']\n",
      "['106', 'Juice', '200', '15663', 'Paperboat']\n",
      "['107', 'Toffee', '100', '2581', 'Eclairs']\n"
     ]
    }
   ],
   "source": [
    "class SportMart:\n",
    "    def __init__(self) :\n",
    "        with open(\"Shelf.csv\",\"r+\")as file:\n",
    "            self.shelf = file.readlines()\n",
    "            for i in self.shelf:\n",
    "                lines = i.strip().split(',')\n",
    "                print(lines)\n",
    "        with open(\"Orders.csv\",\"r+\") as file2:\n",
    "            self.orders = file2.readlines()\n",
    "            for i in self.orders:\n",
    "                liness = i.strip().split(\",\")\n",
    "                print(liness)\n",
    "\n",
    "\n",
    "    def read_shelf(self):   \n",
    "        self.shelf\n",
    "    \n",
    "\n",
    "    def add_items(self):\n",
    "        \n",
    "            \n",
    "            \n",
    "\n",
    "\n",
    "\n",
    "\n",
    "\n",
    "obj1 = SportMart()\n",
    "obj1.  read_shelf()      \n",
    "            \n"
   ]
  },
  {
   "cell_type": "code",
   "execution_count": 1,
   "metadata": {},
   "outputs": [],
   "source": [
    "class SportMart:\n",
    "    def __init__(self):\n",
    "        self.inventory = {}\n",
    "        self.orders = {}\n",
    "\n",
    "    def createInventory(self,ProductID,Items,Quantity,Price,QuantitPrice,Brand):\n",
    "        temp = {\n",
    "            \"productid\":ProductID,\n",
    "            \"items\":Items,\n",
    "            \"quantity\":Quantity,\n",
    "            \"price\":Price,\n",
    "            \"quantityprice\":QuantitPrice,\n",
    "            \"brand\":Brand\n",
    "        }\n",
    "        self.inventory[ProductID] = temp\n",
    "\n",
    "    def createOrder(self,OrderId,ProductID,Quantity,Price,QuantityPrice):\n",
    "        temp = {\n",
    "            \"orderid\":OrderId,\n",
    "            \"productid\":ProductID,\n",
    "            \"quantity\":Quantity,\n",
    "            \"price\":Price,\n",
    "            \"total\":QuantityPrice\n",
    "        }\n",
    "        self.orders[OrderId] = temp\n",
    "\n",
    "    def printOrders(self):\n",
    "        print(self.orders)\n",
    "    \n",
    "    def printInventory(self):\n",
    "        print(self.inventory)\n"
   ]
  },
  {
   "cell_type": "code",
   "execution_count": 4,
   "metadata": {},
   "outputs": [
    {
     "name": "stdout",
     "output_type": "stream",
     "text": [
      "{'200': {'orderid': '200', 'productid': '101', 'quantity': '5', 'price': '50', 'total': '250'}, '201': {'orderid': '201', 'productid': '105', 'quantity': '3', 'price': '90', 'total': '270'}, '202': {'orderid': '202', 'productid': '106', 'quantity': '6', 'price': '85', 'total': '510'}, '203': {'orderid': '203', 'productid': '107', 'quantity': '8', 'price': '90', 'total': '720'}}\n"
     ]
    }
   ],
   "source": [
    "obj1 = SportMart()\n",
    "orders  = open(\"Orders.csv\",\"r+\")\n",
    "o_header = orders.readline()\n",
    "o_data = orders.readlines()\n",
    "for data in o_data:\n",
    "    tmp = data.strip().split(\",\")\n",
    "    obj1.createOrder(tmp[0],tmp[1],tmp[2],tmp[3],tmp[4])\n",
    "\n",
    "\n",
    "obj1.printOrders()"
   ]
  },
  {
   "cell_type": "markdown",
   "metadata": {},
   "source": [
    "Create a sportMart class, where you will have \n",
    " -> inventory / shelf of items\n",
    " -> Orders of customers\n",
    "\n",
    " Create csv file which will store your inventory details and order details\n",
    "\n",
    " with the help of file handling technqiues in python, read the file and create an object for trinity store and populate the inventory items and orders into the trinity store.\n",
    "\n",
    " to make sure that you have added all the items in your file, use a display method to show your inventory and order history.\n",
    "\n",
    "Create a menu driven program that will Create new orders and update the inventory accordingly        \n",
    "Export the final data to the file "
   ]
  },
  {
   "cell_type": "code",
   "execution_count": 135,
   "metadata": {},
   "outputs": [],
   "source": [
    "class SportMartStore:\n",
    "    def __init__(self) :\n",
    "        self.Shelf = []\n",
    "        self.Orders = []\n",
    "        self.headers = \"\"\n",
    "        self.restline = \"\" \n",
    "        self.header2= \"\"\n",
    "        self.restline2 =\"\"\n",
    "        self.dicti1 = {}\n",
    "        self.dicti2 = {}\n",
    "\n",
    "    \n",
    "    def Inventory(self,filename1):\n",
    "        with open(filename1,\"r+\") as file:\n",
    "            self.dicti1 = {}\n",
    "            self.headers = file.readline()\n",
    "            self.restline = file.readlines()\n",
    "            for i in self.restline:\n",
    "                line = i.strip().split(\",\")\n",
    "                temp = {\"Items\":line[1],\"Quantity\":line[2],\"Price\":line[3],\"QuantitPrice\":line[4],\"Brand\":line[5]}\n",
    "                self.dicti1 [line[0]] = temp\n",
    "                self.Shelf.append(self.dicti1)\n",
    "\n",
    "    def Order(self,filename2):\n",
    "        with open(filename2,\"r+\") as file2:\n",
    "            self.dicti2 = {}\n",
    "            self.header2 = file2.readline()\n",
    "            self.restline2 = file2.readlines()\n",
    "            for j in self.restline2:\n",
    "                line2 = j.strip().split(\",\")\n",
    "                temp2={\"ProductID\":line2[1],\"Quantity\":line2[2],\"Price\":line2[3],\"QuantityPrice\":line2[4]}\n",
    "                self.dicti2[line2[0]] = temp2\n",
    "                # self.dicti1[0][]\n",
    "                self.Orders.append(self.dicti2)\n",
    "\n",
    "    def prints_Shelf(self):\n",
    "        print(self.Shelf)\n",
    "    \n",
    "    def print_Orders(self):\n",
    "        print(self.Orders)\n",
    "\n",
    "    def add_itemshelf(self):\n",
    "        Productid= int(input(\"Enter the ID\"))\n",
    "        item = input(\"Enter the item: \")\n",
    "        quantity = int(input(\"Enter the quantity: \"))\n",
    "        price = int(input(\"Enter the price: \"))\n",
    "        quantityprice = quantity*price\n",
    "        brand = input(\"Enter the brand: \")\n",
    "        new_item = {\"Items\":item,\"Quantity\":quantity,\"Price\":price,\"QuantitPrice\":quantityprice,\"Brand\":brand}\n",
    "        for i in self.Shelf:\n",
    "            if self.Shelf[0][i]!=Productid:\n",
    "                \n",
    "                self.dicti1[Productid] = new_item\n",
    "                self.Shelf.append(self.dicti1)\n",
    "\n",
    "    def add_itemorder(self):\n",
    "        orderid = int(input(\"Enter the OrderID: \"))\n",
    "        productid = int(input(\"Enter the ProductID: \"))\n",
    "        quantity = int(input(\"Enter the quantity: \"))\n",
    "        price = self.Shelf[0][productid]\n",
    "        quantityprice = quantity*price\n",
    "        new_item1 = {\"ProductID\":productid,\"Quantity\":quantity,\"Price\":self.Shelf[0][productid][\"Price\"],\"QuantityPrice\":quantityprice}\n",
    "        for i in self.Orders:\n",
    "            if self.Shelf[i]!=orderid:\n",
    "                self.dicti1[orderid] = new_item1\n",
    "                self.Shelf.append(self.dicti2)\n",
    "\n"
   ]
  },
  {
   "cell_type": "code",
   "execution_count": 237,
   "metadata": {},
   "outputs": [],
   "source": [
    "class SportMartStore:\n",
    "    def __init__(self):\n",
    "        self.order ={}\n",
    "        self.shelf = {}\n",
    "\n",
    "    def Shelf(self,filename):\n",
    "        with open(filename,\"r+\") as file:\n",
    "            header = file.readline()\n",
    "            restdata = file.readlines()\n",
    "            for i in restdata:\n",
    "                line = i.strip().split(\",\")\n",
    "                temp = {\"Items\":line[1],\"Quantity\":line[2],\"Price\":line[3],\"QuantitPrice\":line[4],\"Brand\":line[5]}\n",
    "                self.shelf[line[0]] = temp  #productid\n",
    "\n",
    "\n",
    "    def Order(self,filename2):\n",
    "        with open(filename2,\"r+\") as file2:\n",
    "            header = file2.readline()\n",
    "            restdata = file2.readlines()\n",
    "            for i in restdata:\n",
    "                line2 = i.strip().split(\",\")\n",
    "                temp2 = {\"Quantity\":line2[1],\"Price\":line2[2],\"QuantityPrice\":line2[3]}\n",
    "                self.order[line2[0]]=temp2  #Orderid\n",
    "\n",
    "    \n",
    "\n",
    "        # print(self.shelf)\n",
    "    \n",
    "    def list_order(self):\n",
    "        for i in self.shelf:\n",
    "            for j in self.order:\n",
    "                if i==j:\n",
    "                    main_prod =  int(self.shelf[i][\"Quantity\"])\n",
    "                    new_prod =int(self.order[j][\"Quantity\"])\n",
    "                    total = main_prod - new_prod\n",
    "                    self.shelf[i][\"Quantity\"] = str(total)\n",
    "        print(self.shelf)\n",
    "\n",
    "    # def print_shelf(self):\n",
    "    #     print(self.shelf)\n",
    "\n",
    "\n",
    "\n",
    "        # print(self.order)\n",
    "\n",
    "\n",
    "\n",
    "\n"
   ]
  },
  {
   "cell_type": "code",
   "execution_count": 238,
   "metadata": {},
   "outputs": [
    {
     "name": "stdout",
     "output_type": "stream",
     "text": [
      "{'100': {'Items': 'Cooldrinks', 'Quantity': '200', 'Price': '60', 'QuantitPrice': '12000', 'Brand': 'Cocacola'}, '101': {'Items': 'Bread', 'Quantity': '45', 'Price': '50', 'QuantitPrice': '2500', 'Brand': 'Britania'}, '102': {'Items': 'Milk', 'Quantity': '50', 'Price': '45', 'QuantitPrice': '2250', 'Brand': 'Milma'}, '103': {'Items': 'Jam', 'Quantity': '200', 'Price': '90', 'QuantitPrice': '18000', 'Brand': 'JimJam'}, '104': {'Items': 'Chips', 'Quantity': '300', 'Price': '80', 'QuantitPrice': '24000', 'Brand': 'Lays'}, '105': {'Items': 'Cheese', 'Quantity': '97', 'Price': '90', 'QuantitPrice': '9000', 'Brand': 'Amul'}, '106': {'Items': 'Juice', 'Quantity': '194', 'Price': '85', 'QuantitPrice': '17000', 'Brand': 'Paperboat'}, '107': {'Items': 'Coffee', 'Quantity': '92', 'Price': '90', 'QuantitPrice': '9000', 'Brand': 'Eclairs'}}\n"
     ]
    }
   ],
   "source": [
    "obj1 = SportMartStore()\n",
    "obj1.Shelf(\"Shelf.csv\")\n",
    "obj1.Order(\"Orders.csv\")\n",
    "obj1.list_order()"
   ]
  },
  {
   "cell_type": "code",
   "execution_count": 236,
   "metadata": {},
   "outputs": [
    {
     "name": "stdout",
     "output_type": "stream",
     "text": [
      "{'100': {'Items': 'Cooldrinks', 'Quantity': '200', 'Price': '60', 'QuantitPrice': '12000', 'Brand': 'Cocacola'}, '101': {'Items': 'Bread', 'Quantity': '40', 'Price': '50', 'QuantitPrice': '2500', 'Brand': 'Britania'}, '102': {'Items': 'Milk', 'Quantity': '50', 'Price': '45', 'QuantitPrice': '2250', 'Brand': 'Milma'}, '103': {'Items': 'Jam', 'Quantity': '200', 'Price': '90', 'QuantitPrice': '18000', 'Brand': 'JimJam'}, '104': {'Items': 'Chips', 'Quantity': '300', 'Price': '80', 'QuantitPrice': '24000', 'Brand': 'Lays'}, '105': {'Items': 'Cheese', 'Quantity': '94', 'Price': '90', 'QuantitPrice': '9000', 'Brand': 'Amul'}, '106': {'Items': 'Juice', 'Quantity': '188', 'Price': '85', 'QuantitPrice': '17000', 'Brand': 'Paperboat'}, '107': {'Items': 'Coffee', 'Quantity': '84', 'Price': '90', 'QuantitPrice': '9000', 'Brand': 'Eclairs'}}\n"
     ]
    }
   ],
   "source": [
    "obj1.list_order()"
   ]
  },
  {
   "cell_type": "code",
   "execution_count": 142,
   "metadata": {},
   "outputs": [
    {
     "name": "stdout",
     "output_type": "stream",
     "text": [
      "['200', '101', '5', '50', '250']\n",
      "['201', '105', '3', '90', '270']\n",
      "['202', '106', '6', '85', '510']\n",
      "['203', '107', '8', '90', '720']\n"
     ]
    }
   ],
   "source": [
    "with open(\"Orders.csv\",\"r+\") as file:\n",
    "    header = file.readline()\n",
    "    restdata = file.readlines()\n",
    "    for i in restdata:\n",
    "        lines = i.strip().split(\",\")\n",
    "        print(lines)"
   ]
  },
  {
   "cell_type": "code",
   "execution_count": 132,
   "metadata": {},
   "outputs": [],
   "source": [
    "\n",
    "obj1 = SportMartStore()\n",
    "obj1.Inventory(\"Shelf.csv\")\n"
   ]
  },
  {
   "cell_type": "code",
   "execution_count": 133,
   "metadata": {},
   "outputs": [
    {
     "name": "stdout",
     "output_type": "stream",
     "text": [
      "[{'100': {'Items': 'Cooldrinks', 'Quantity': '200', 'Price': '60', 'QuantitPrice': '12000', 'Brand': 'Cocacola'}, '101': {'Items': 'Bread', 'Quantity': '50', 'Price': '50', 'QuantitPrice': '2500', 'Brand': 'Britania'}, '102': {'Items': 'Milk', 'Quantity': '50', 'Price': '45', 'QuantitPrice': '2250', 'Brand': 'Milma'}, '103': {'Items': 'Jam', 'Quantity': '200', 'Price': '90', 'QuantitPrice': '18000', 'Brand': 'JimJam'}, '104': {'Items': 'Chips', 'Quantity': '300', 'Price': '80', 'QuantitPrice': '24000', 'Brand': 'Lays'}, '105': {'Items': 'Cheese', 'Quantity': '100', 'Price': '90', 'QuantitPrice': '9000', 'Brand': 'Amul'}, '106': {'Items': 'Juice', 'Quantity': '200', 'Price': '85', 'QuantitPrice': '17000', 'Brand': 'Paperboat'}, '107': {'Items': 'Coffee', 'Quantity': '100', 'Price': '90', 'QuantitPrice': '9000', 'Brand': 'Eclairs'}}, {'100': {'Items': 'Cooldrinks', 'Quantity': '200', 'Price': '60', 'QuantitPrice': '12000', 'Brand': 'Cocacola'}, '101': {'Items': 'Bread', 'Quantity': '50', 'Price': '50', 'QuantitPrice': '2500', 'Brand': 'Britania'}, '102': {'Items': 'Milk', 'Quantity': '50', 'Price': '45', 'QuantitPrice': '2250', 'Brand': 'Milma'}, '103': {'Items': 'Jam', 'Quantity': '200', 'Price': '90', 'QuantitPrice': '18000', 'Brand': 'JimJam'}, '104': {'Items': 'Chips', 'Quantity': '300', 'Price': '80', 'QuantitPrice': '24000', 'Brand': 'Lays'}, '105': {'Items': 'Cheese', 'Quantity': '100', 'Price': '90', 'QuantitPrice': '9000', 'Brand': 'Amul'}, '106': {'Items': 'Juice', 'Quantity': '200', 'Price': '85', 'QuantitPrice': '17000', 'Brand': 'Paperboat'}, '107': {'Items': 'Coffee', 'Quantity': '100', 'Price': '90', 'QuantitPrice': '9000', 'Brand': 'Eclairs'}}, {'100': {'Items': 'Cooldrinks', 'Quantity': '200', 'Price': '60', 'QuantitPrice': '12000', 'Brand': 'Cocacola'}, '101': {'Items': 'Bread', 'Quantity': '50', 'Price': '50', 'QuantitPrice': '2500', 'Brand': 'Britania'}, '102': {'Items': 'Milk', 'Quantity': '50', 'Price': '45', 'QuantitPrice': '2250', 'Brand': 'Milma'}, '103': {'Items': 'Jam', 'Quantity': '200', 'Price': '90', 'QuantitPrice': '18000', 'Brand': 'JimJam'}, '104': {'Items': 'Chips', 'Quantity': '300', 'Price': '80', 'QuantitPrice': '24000', 'Brand': 'Lays'}, '105': {'Items': 'Cheese', 'Quantity': '100', 'Price': '90', 'QuantitPrice': '9000', 'Brand': 'Amul'}, '106': {'Items': 'Juice', 'Quantity': '200', 'Price': '85', 'QuantitPrice': '17000', 'Brand': 'Paperboat'}, '107': {'Items': 'Coffee', 'Quantity': '100', 'Price': '90', 'QuantitPrice': '9000', 'Brand': 'Eclairs'}}, {'100': {'Items': 'Cooldrinks', 'Quantity': '200', 'Price': '60', 'QuantitPrice': '12000', 'Brand': 'Cocacola'}, '101': {'Items': 'Bread', 'Quantity': '50', 'Price': '50', 'QuantitPrice': '2500', 'Brand': 'Britania'}, '102': {'Items': 'Milk', 'Quantity': '50', 'Price': '45', 'QuantitPrice': '2250', 'Brand': 'Milma'}, '103': {'Items': 'Jam', 'Quantity': '200', 'Price': '90', 'QuantitPrice': '18000', 'Brand': 'JimJam'}, '104': {'Items': 'Chips', 'Quantity': '300', 'Price': '80', 'QuantitPrice': '24000', 'Brand': 'Lays'}, '105': {'Items': 'Cheese', 'Quantity': '100', 'Price': '90', 'QuantitPrice': '9000', 'Brand': 'Amul'}, '106': {'Items': 'Juice', 'Quantity': '200', 'Price': '85', 'QuantitPrice': '17000', 'Brand': 'Paperboat'}, '107': {'Items': 'Coffee', 'Quantity': '100', 'Price': '90', 'QuantitPrice': '9000', 'Brand': 'Eclairs'}}, {'100': {'Items': 'Cooldrinks', 'Quantity': '200', 'Price': '60', 'QuantitPrice': '12000', 'Brand': 'Cocacola'}, '101': {'Items': 'Bread', 'Quantity': '50', 'Price': '50', 'QuantitPrice': '2500', 'Brand': 'Britania'}, '102': {'Items': 'Milk', 'Quantity': '50', 'Price': '45', 'QuantitPrice': '2250', 'Brand': 'Milma'}, '103': {'Items': 'Jam', 'Quantity': '200', 'Price': '90', 'QuantitPrice': '18000', 'Brand': 'JimJam'}, '104': {'Items': 'Chips', 'Quantity': '300', 'Price': '80', 'QuantitPrice': '24000', 'Brand': 'Lays'}, '105': {'Items': 'Cheese', 'Quantity': '100', 'Price': '90', 'QuantitPrice': '9000', 'Brand': 'Amul'}, '106': {'Items': 'Juice', 'Quantity': '200', 'Price': '85', 'QuantitPrice': '17000', 'Brand': 'Paperboat'}, '107': {'Items': 'Coffee', 'Quantity': '100', 'Price': '90', 'QuantitPrice': '9000', 'Brand': 'Eclairs'}}, {'100': {'Items': 'Cooldrinks', 'Quantity': '200', 'Price': '60', 'QuantitPrice': '12000', 'Brand': 'Cocacola'}, '101': {'Items': 'Bread', 'Quantity': '50', 'Price': '50', 'QuantitPrice': '2500', 'Brand': 'Britania'}, '102': {'Items': 'Milk', 'Quantity': '50', 'Price': '45', 'QuantitPrice': '2250', 'Brand': 'Milma'}, '103': {'Items': 'Jam', 'Quantity': '200', 'Price': '90', 'QuantitPrice': '18000', 'Brand': 'JimJam'}, '104': {'Items': 'Chips', 'Quantity': '300', 'Price': '80', 'QuantitPrice': '24000', 'Brand': 'Lays'}, '105': {'Items': 'Cheese', 'Quantity': '100', 'Price': '90', 'QuantitPrice': '9000', 'Brand': 'Amul'}, '106': {'Items': 'Juice', 'Quantity': '200', 'Price': '85', 'QuantitPrice': '17000', 'Brand': 'Paperboat'}, '107': {'Items': 'Coffee', 'Quantity': '100', 'Price': '90', 'QuantitPrice': '9000', 'Brand': 'Eclairs'}}, {'100': {'Items': 'Cooldrinks', 'Quantity': '200', 'Price': '60', 'QuantitPrice': '12000', 'Brand': 'Cocacola'}, '101': {'Items': 'Bread', 'Quantity': '50', 'Price': '50', 'QuantitPrice': '2500', 'Brand': 'Britania'}, '102': {'Items': 'Milk', 'Quantity': '50', 'Price': '45', 'QuantitPrice': '2250', 'Brand': 'Milma'}, '103': {'Items': 'Jam', 'Quantity': '200', 'Price': '90', 'QuantitPrice': '18000', 'Brand': 'JimJam'}, '104': {'Items': 'Chips', 'Quantity': '300', 'Price': '80', 'QuantitPrice': '24000', 'Brand': 'Lays'}, '105': {'Items': 'Cheese', 'Quantity': '100', 'Price': '90', 'QuantitPrice': '9000', 'Brand': 'Amul'}, '106': {'Items': 'Juice', 'Quantity': '200', 'Price': '85', 'QuantitPrice': '17000', 'Brand': 'Paperboat'}, '107': {'Items': 'Coffee', 'Quantity': '100', 'Price': '90', 'QuantitPrice': '9000', 'Brand': 'Eclairs'}}, {'100': {'Items': 'Cooldrinks', 'Quantity': '200', 'Price': '60', 'QuantitPrice': '12000', 'Brand': 'Cocacola'}, '101': {'Items': 'Bread', 'Quantity': '50', 'Price': '50', 'QuantitPrice': '2500', 'Brand': 'Britania'}, '102': {'Items': 'Milk', 'Quantity': '50', 'Price': '45', 'QuantitPrice': '2250', 'Brand': 'Milma'}, '103': {'Items': 'Jam', 'Quantity': '200', 'Price': '90', 'QuantitPrice': '18000', 'Brand': 'JimJam'}, '104': {'Items': 'Chips', 'Quantity': '300', 'Price': '80', 'QuantitPrice': '24000', 'Brand': 'Lays'}, '105': {'Items': 'Cheese', 'Quantity': '100', 'Price': '90', 'QuantitPrice': '9000', 'Brand': 'Amul'}, '106': {'Items': 'Juice', 'Quantity': '200', 'Price': '85', 'QuantitPrice': '17000', 'Brand': 'Paperboat'}, '107': {'Items': 'Coffee', 'Quantity': '100', 'Price': '90', 'QuantitPrice': '9000', 'Brand': 'Eclairs'}}]\n",
      "[{'200': {'ProductID': '101', 'Quantity': '5', 'Price': '50', 'QuantityPrice': '250'}, '201': {'ProductID': '105', 'Quantity': '3', 'Price': '90', 'QuantityPrice': '270'}, '202': {'ProductID': '106', 'Quantity': '6', 'Price': '85', 'QuantityPrice': '510'}, '203': {'ProductID': '107', 'Quantity': '8', 'Price': '90', 'QuantityPrice': '720'}}, {'200': {'ProductID': '101', 'Quantity': '5', 'Price': '50', 'QuantityPrice': '250'}, '201': {'ProductID': '105', 'Quantity': '3', 'Price': '90', 'QuantityPrice': '270'}, '202': {'ProductID': '106', 'Quantity': '6', 'Price': '85', 'QuantityPrice': '510'}, '203': {'ProductID': '107', 'Quantity': '8', 'Price': '90', 'QuantityPrice': '720'}}, {'200': {'ProductID': '101', 'Quantity': '5', 'Price': '50', 'QuantityPrice': '250'}, '201': {'ProductID': '105', 'Quantity': '3', 'Price': '90', 'QuantityPrice': '270'}, '202': {'ProductID': '106', 'Quantity': '6', 'Price': '85', 'QuantityPrice': '510'}, '203': {'ProductID': '107', 'Quantity': '8', 'Price': '90', 'QuantityPrice': '720'}}, {'200': {'ProductID': '101', 'Quantity': '5', 'Price': '50', 'QuantityPrice': '250'}, '201': {'ProductID': '105', 'Quantity': '3', 'Price': '90', 'QuantityPrice': '270'}, '202': {'ProductID': '106', 'Quantity': '6', 'Price': '85', 'QuantityPrice': '510'}, '203': {'ProductID': '107', 'Quantity': '8', 'Price': '90', 'QuantityPrice': '720'}}]\n"
     ]
    }
   ],
   "source": [
    "obj1.Order(\"Orders.csv\")\n",
    "obj1.prints_Shelf()\n",
    "obj1.print_Orders()"
   ]
  },
  {
   "cell_type": "code",
   "execution_count": 134,
   "metadata": {},
   "outputs": [
    {
     "ename": "TypeError",
     "evalue": "unhashable type: 'dict'",
     "output_type": "error",
     "traceback": [
      "\u001b[1;31m---------------------------------------------------------------------------\u001b[0m",
      "\u001b[1;31mTypeError\u001b[0m                                 Traceback (most recent call last)",
      "\u001b[1;32md:\\PythonPractise\\QuestFromSir.ipynb Cell 9\u001b[0m line \u001b[0;36m1\n\u001b[1;32m----> <a href='vscode-notebook-cell:/d%3A/PythonPractise/QuestFromSir.ipynb#X33sZmlsZQ%3D%3D?line=0'>1</a>\u001b[0m obj1\u001b[39m.\u001b[39;49madd_itemshelf()\n",
      "\u001b[1;32md:\\PythonPractise\\QuestFromSir.ipynb Cell 9\u001b[0m line \u001b[0;36m5\n\u001b[0;32m     <a href='vscode-notebook-cell:/d%3A/PythonPractise/QuestFromSir.ipynb#X33sZmlsZQ%3D%3D?line=50'>51</a>\u001b[0m new_item \u001b[39m=\u001b[39m {\u001b[39m\"\u001b[39m\u001b[39mItems\u001b[39m\u001b[39m\"\u001b[39m:item,\u001b[39m\"\u001b[39m\u001b[39mQuantity\u001b[39m\u001b[39m\"\u001b[39m:quantity,\u001b[39m\"\u001b[39m\u001b[39mPrice\u001b[39m\u001b[39m\"\u001b[39m:price,\u001b[39m\"\u001b[39m\u001b[39mQuantitPrice\u001b[39m\u001b[39m\"\u001b[39m:quantityprice,\u001b[39m\"\u001b[39m\u001b[39mBrand\u001b[39m\u001b[39m\"\u001b[39m:brand}\n\u001b[0;32m     <a href='vscode-notebook-cell:/d%3A/PythonPractise/QuestFromSir.ipynb#X33sZmlsZQ%3D%3D?line=51'>52</a>\u001b[0m \u001b[39mfor\u001b[39;00m i \u001b[39min\u001b[39;00m \u001b[39mself\u001b[39m\u001b[39m.\u001b[39mShelf:\n\u001b[1;32m---> <a href='vscode-notebook-cell:/d%3A/PythonPractise/QuestFromSir.ipynb#X33sZmlsZQ%3D%3D?line=52'>53</a>\u001b[0m     \u001b[39mif\u001b[39;00m \u001b[39mself\u001b[39;49m\u001b[39m.\u001b[39;49mShelf[\u001b[39m0\u001b[39;49m][i]\u001b[39m!=\u001b[39mProductid:\n\u001b[0;32m     <a href='vscode-notebook-cell:/d%3A/PythonPractise/QuestFromSir.ipynb#X33sZmlsZQ%3D%3D?line=54'>55</a>\u001b[0m         \u001b[39mself\u001b[39m\u001b[39m.\u001b[39mdicti1[Productid] \u001b[39m=\u001b[39m new_item\n\u001b[0;32m     <a href='vscode-notebook-cell:/d%3A/PythonPractise/QuestFromSir.ipynb#X33sZmlsZQ%3D%3D?line=55'>56</a>\u001b[0m         \u001b[39mself\u001b[39m\u001b[39m.\u001b[39mShelf\u001b[39m.\u001b[39mappend(\u001b[39mself\u001b[39m\u001b[39m.\u001b[39mdicti1)\n",
      "\u001b[1;31mTypeError\u001b[0m: unhashable type: 'dict'"
     ]
    }
   ],
   "source": [
    "obj1.add_itemshelf()"
   ]
  },
  {
   "cell_type": "code",
   "execution_count": 244,
   "metadata": {},
   "outputs": [
    {
     "name": "stdout",
     "output_type": "stream",
     "text": [
      "{'100': {'Items': 'Cooldrinks', 'Quantity': '2000', 'Price': '60', 'QuantitPrice': '12000', 'Brand': 'Cocacola'}, '101': {'Items': 'Bread', 'Quantity': '50', 'Price': '50', 'QuantitPrice': '2500', 'Brand': 'Britania'}, '102': {'Items': 'Milk', 'Quantity': '50', 'Price': '45', 'QuantitPrice': '2250', 'Brand': 'Milma'}, '103': {'Items': 'Jam', 'Quantity': '200', 'Price': '90', 'QuantitPrice': '18000', 'Brand': 'JimJam'}, '104': {'Items': 'Chips', 'Quantity': '300', 'Price': '80', 'QuantitPrice': '24000', 'Brand': 'Lays'}, '105': {'Items': 'Cheese', 'Quantity': '100', 'Price': '90', 'QuantitPrice': '9000', 'Brand': 'Amul'}, '106': {'Items': 'Juice', 'Quantity': '200', 'Price': '85', 'QuantitPrice': '17000', 'Brand': 'Paperboat'}, '107': {'Items': 'Coffee', 'Quantity': '100', 'Price': '90', 'QuantitPrice': '9000', 'Brand': 'Eclairs'}}\n"
     ]
    }
   ],
   "source": [
    "dicti = {'100': {'Items': 'Cooldrinks', 'Quantity': '200', 'Price': '60', 'QuantitPrice': '12000', 'Brand': 'Cocacola'}, \n",
    "         '101': {'Items': 'Bread', 'Quantity': '50', 'Price': '50', 'QuantitPrice': '2500', 'Brand': 'Britania'}, \n",
    "         '102': {'Items': 'Milk', 'Quantity': '50', 'Price': '45', 'QuantitPrice': '2250', 'Brand': 'Milma'}, \n",
    "         '103': {'Items': 'Jam', 'Quantity': '200', 'Price': '90', 'QuantitPrice': '18000', 'Brand': 'JimJam'}, \n",
    "         '104': {'Items': 'Chips', 'Quantity': '300', 'Price': '80', 'QuantitPrice': '24000', 'Brand': 'Lays'}, \n",
    "         '105': {'Items': 'Cheese', 'Quantity': '100', 'Price': '90', 'QuantitPrice': '9000', 'Brand': 'Amul'}, \n",
    "         '106': {'Items': 'Juice', 'Quantity': '200', 'Price': '85', 'QuantitPrice': '17000', 'Brand': 'Paperboat'}, \n",
    "         '107': {'Items': 'Coffee', 'Quantity': '100', 'Price': '90', 'QuantitPrice': '9000', 'Brand': 'Eclairs'}}\n",
    "\n",
    "dicti2 = {'101': {'Quantity': '5', 'Price': '50', 'QuantityPrice': '250'}, \n",
    "          '105': {'Quantity': '3', 'Price': '90', 'QuantityPrice': '270'}, \n",
    "          '106': {'Quantity': '6', 'Price': '85', 'QuantityPrice': '510'},\n",
    "          '107': {'Quantity': '8', 'Price': '90', 'QuantityPrice': '720'}}\n",
    "\n",
    "userinput = int(input())\n",
    "for i in dicti:\n",
    "    for j in dicti2:\n",
    "        if int(i) == userinput:\n",
    "            newvalue = str(i)\n",
    "            dicti[i][\"Quantity\"] = \"2000\"\n",
    "            \n",
    "\n",
    "print(dicti)\n",
    "    # print(i)"
   ]
  },
  {
   "cell_type": "code",
   "execution_count": null,
   "metadata": {},
   "outputs": [],
   "source": [
    "class SportMart:\n",
    "    def __init__(self):\n",
    "        self.Shelf = []\n",
    "        self.Orders = [] \n",
    "\n",
    "    def inventory(self,ProductID,Items,Quantity,Price,QuantitPrice,Brand):\n",
    "        temp = {\n",
    "            \"ProductId\":ProductID,\n",
    "            \"Items\":Items,\n",
    "            \"Quantity\":Quantity,\n",
    "            \"Price\":Price,\n",
    "            \"QuantityPrice\":QuantitPrice,\n",
    "            \"Brand\":Brand\n",
    "        }\n",
    "        self.Shelf[ProductID]=temp\n",
    "        print(self.Shelf)\n",
    "\n",
    "    def orders(self,OrderId,ProductID,Quantity,Price,QuantityPrice):\n",
    "        temp2 = {\n",
    "            \"OrderId\":OrderId,\n",
    "            \"ProductId\":ProductID,\n",
    "            \"Quantity\":Quantity,\n",
    "            \"Price\":Price,\n",
    "            \"Total\":QuantityPrice\n",
    "            \n",
    "        }\n",
    "        self.Orders[OrderId]=temp2\n",
    "        print(self.Orders)\n",
    "\n",
    "    def neworders(self,OrderId,ProductID,Quantity,Price,QuantityPrice):\n",
    "        temp3 = {\n",
    "            \"OrderId\":OrderId,\n",
    "            \"ProductId\":ProductID,\n",
    "            \"Quantity\":Quantity,\n",
    "            \"Price\":Price,\n",
    "            \"Total\":QuantityPrice\n",
    "        }\n",
    "        self.Orders[OrderId] = temp3\n",
    "        #updating\n",
    "        if self.Orders[ProductID] == self.Shelf[ProductID]:\n",
    "            self.Orders[ProductID] \n",
    "\n",
    "\n",
    "\n",
    "    \n"
   ]
  },
  {
   "cell_type": "code",
   "execution_count": 75,
   "metadata": {},
   "outputs": [],
   "source": [
    "Shelf = {}\n",
    "Order = {}\n",
    "def inventory(ProductID,Items,Quantity,Price,QuantitPrice,Brand):\n",
    "    temp2 = {\n",
    "            \"ProductId\":ProductID,\n",
    "            \"Items\":Items,\n",
    "            \"Quantity\":Quantity,\n",
    "            \"Price\":Price,\n",
    "            \"QuantityPrice\":QuantitPrice,\n",
    "            \"Brand\":Brand\n",
    "            \n",
    "        }\n",
    "    Shelf[ProductID] = temp2 \n",
    "    \n",
    "\n",
    "\n",
    "def orders(OrderId,ProductID,Quantity,Price,QuantityPrice):\n",
    "    temp =  {\n",
    "            \"ProductId\":ProductID,\n",
    "            \"Quantity\":Quantity,\n",
    "            \"Price\":Price,\n",
    "            \"Total\":QuantityPrice\n",
    "        }\n",
    "    Order[OrderId] = temp\n",
    "    print(Order)\n",
    "\n"
   ]
  },
  {
   "cell_type": "code",
   "execution_count": 98,
   "metadata": {},
   "outputs": [
    {
     "name": "stdout",
     "output_type": "stream",
     "text": [
      "['200', '101', '5', '50', '250']\n",
      "['201', '105', '3', '90', '270']\n",
      "['202', '106', '6', '85', '510']\n",
      "['203', '107', '8', '90', '720']\n"
     ]
    }
   ],
   "source": [
    "with open(\"orders.csv\",\"r+\") as file:\n",
    "    headers = file.readline()\n",
    "    restline = file.readlines()\n",
    "    for i in restline:\n",
    "        line = i.strip().split(\",\")\n",
    "        print(line)\n",
    "\n",
    "\n",
    "    "
   ]
  },
  {
   "cell_type": "code",
   "execution_count": 89,
   "metadata": {},
   "outputs": [
    {
     "name": "stdout",
     "output_type": "stream",
     "text": [
      "{'200': ['200', '101', '5', '50', '250'], '201': ['201', '105', '3', '90', '270'], '202': ['202', '106', '6', '85', '510'], '203': ['203', '107', '8', '90', '720']}\n"
     ]
    }
   ],
   "source": [
    "with open(\"Orders.csv\",\"r+\") as file:\n",
    "    keader = file.readline()\n",
    "    data = file.readlines()\n",
    "    for i in data:\n",
    "        line = i.strip().split(\",\")\n",
    "        Shelf[line[0]] = line\n",
    "print(Shelf)"
   ]
  },
  {
   "cell_type": "code",
   "execution_count": null,
   "metadata": {},
   "outputs": [],
   "source": []
  },
  {
   "cell_type": "code",
   "execution_count": 55,
   "metadata": {},
   "outputs": [
    {
     "name": "stdout",
     "output_type": "stream",
     "text": [
      "['OrderId', 'ProductID', 'Quantity', 'Price', 'QuantityPrice']\n",
      "['200', '101', '5', '50', '250']\n",
      "['201', '105', '3', '90', '270']\n",
      "['202', '106', '6', '85', '510']\n",
      "['203', '107', '8', '90', '720']\n"
     ]
    }
   ],
   "source": [
    "with open(\"Orders.csv\",\"r+\") as file:\n",
    "    for i in file.readlines():\n",
    "        lines = i.strip().split(',')\n",
    "        print(lines)"
   ]
  },
  {
   "cell_type": "code",
   "execution_count": 254,
   "metadata": {},
   "outputs": [
    {
     "name": "stdout",
     "output_type": "stream",
     "text": [
      "Cooldrinks\n",
      "Bread\n",
      "Milk\n",
      "Jam\n",
      "Chips\n",
      "Cheese\n",
      "Juice\n",
      "Coffee\n"
     ]
    }
   ],
   "source": [
    "with open(\"Shelf.csv\",\"r+\") as file:\n",
    "    linesss = file.readline()\n",
    "    lines = file.readlines()\n",
    "    for i in lines:\n",
    "        new = i.strip().split(\",\")\n",
    "        print(new[1])"
   ]
  },
  {
   "cell_type": "code",
   "execution_count": null,
   "metadata": {},
   "outputs": [],
   "source": []
  }
 ],
 "metadata": {
  "kernelspec": {
   "display_name": "Python 3",
   "language": "python",
   "name": "python3"
  },
  "language_info": {
   "codemirror_mode": {
    "name": "ipython",
    "version": 3
   },
   "file_extension": ".py",
   "mimetype": "text/x-python",
   "name": "python",
   "nbconvert_exporter": "python",
   "pygments_lexer": "ipython3",
   "version": "3.11.4"
  }
 },
 "nbformat": 4,
 "nbformat_minor": 2
}
