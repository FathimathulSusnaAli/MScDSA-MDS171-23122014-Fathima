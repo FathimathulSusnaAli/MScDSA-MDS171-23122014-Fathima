{
 "cells": [
  {
   "cell_type": "code",
   "execution_count": null,
   "metadata": {},
   "outputs": [],
   "source": [
    "# dict with students details tpo be appended into the file\n",
    "# Dictionary has to 2D, 1D key contains Students names and 2 D dict values contains reg numbers, division, phone number, blood group and state\n",
    "# All appended into file\n",
    "\n",
    "# Students = [ {\"Nikhil\":{Reg num: 23122126,\"Division\":\"A\",\"Phone Number\":8089712621,\"Blood Group\":\"A+\",\"State\":\"Kerala\"}}]"
   ]
  },
  {
   "cell_type": "code",
   "execution_count": 10,
   "metadata": {},
   "outputs": [],
   "source": [
    "with open(\"StudentsList.txt\",\"w+\") as file:\n",
    "    Students = []\n",
    "    students = {}\n",
    "    Name = input(\"Enter the Name: \")\n",
    "    Register_Division = int(input(\"Enter the Register Number\"))\n",
    "    Division = input(\"Enter the Division\")\n",
    "    Phone_Number = input(\"Enter the Phone Number\")\n",
    "    Blood_Group = input(\"Enter the Blood Group\")\n",
    "    State = input(\"Enter the State\")\n",
    "    students[Name]={\"Register Number\":Register_Division,\"Division\":Division,\"Phone Number\":Phone_Number,\"Blood Group\":Blood_Group,\"State\":State}\n",
    "\n",
    "    Students.append(students)\n",
    "    file.write(str(Students))\n",
    "\n",
    "    "
   ]
  },
  {
   "cell_type": "code",
   "execution_count": 44,
   "metadata": {},
   "outputs": [],
   "source": [
    "Days = [\"Sunday\",\"Monday\",\"Tuesday\",\"Wednesday\",\"Thursday\",\"Friday\",\"Saturday\"]\n",
    "Litres = [\"8\",\"9\",\"4\",\"5\",\"6\",\"7\",\"3\"]\n",
    "VehicleType = [\"Light\",\"Heavy\",\"Motorcycle\",\"Luxury\",\"2wheelers(withoutgear)\",\"Delivery\",\"UnwellPeople\"]"
   ]
  },
  {
   "cell_type": "code",
   "execution_count": 45,
   "metadata": {},
   "outputs": [],
   "source": [
    "import random\n",
    "with open(\"Petrolpumpdetails.txt\",\"w+\") as file:\n",
    "    for i in range(7):\n",
    "        days = random.randint(0,6)\n",
    "        litres = random.randint(0,6)\n",
    "        vehicleType = random.randint(0,6)\n",
    "        file.write(Days[days]+\",\"+Litres[litres]+\",\"+VehicleType[vehicleType]+\"\\n\")    \n"
   ]
  },
  {
   "cell_type": "code",
   "execution_count": 46,
   "metadata": {},
   "outputs": [
    {
     "name": "stdout",
     "output_type": "stream",
     "text": [
      "['Monday', '7', 'Light']\n",
      "['Saturday', '3', 'Heavy']\n",
      "['Monday', '3', 'Luxury']\n",
      "['Wednesday', '3', 'Luxury']\n",
      "['Wednesday', '4', 'Delivery']\n",
      "['Thursday', '9', 'Heavy']\n",
      "['Saturday', '8', 'Heavy']\n"
     ]
    }
   ],
   "source": [
    "with open(\"Petrolpumpdetails.txt\",\"r+\") as file:\n",
    "    lines = file.readlines()\n",
    "    for line in lines:\n",
    "        line = line.strip().split(\",\")\n",
    "        print(line)"
   ]
  },
  {
   "cell_type": "markdown",
   "metadata": {},
   "source": [
    "### Main (Taking Inputs from User)"
   ]
  },
  {
   "cell_type": "markdown",
   "metadata": {},
   "source": [
    "### File should contain Days in a week , Liters of petrol and vehicle type. \n",
    "### You should analyse Max liters of petrol in a week , then count of all vehicle , \n",
    "### sort the output according to liters of petrol given in ascending order. "
   ]
  },
  {
   "cell_type": "code",
   "execution_count": null,
   "metadata": {},
   "outputs": [],
   "source": [
    "with open(\"Petrolpumpdetails.txt\",\"a+\") as file:\n",
    "    Days = input(\"Enter the Day(mon-sat): \")\n",
    "    Litres = int(input(\"Enter the Litres\"))\n",
    "    VehicleType = input(\"Enter the Type of Vehicle(Heavy/Light/Motovehicle): \")\n",
    "    file.write(Days.title()+\",\"+str(Litres)+\",\"+VehicleType.title()+\"\\n\")\n"
   ]
  },
  {
   "cell_type": "code",
   "execution_count": 120,
   "metadata": {},
   "outputs": [
    {
     "name": "stdout",
     "output_type": "stream",
     "text": [
      "55\n",
      "['50', '48', '30', '33', '55', '45', '45']\n"
     ]
    }
   ],
   "source": [
    "with open (\"Petrolpumpdetails.txt\",\"r+\") as file:\n",
    "    line = file.readlines()\n",
    "    litres_petrol = []\n",
    "    for lines in line:\n",
    "        lines = lines.strip().split(\",\")\n",
    "        litres_petrol.append(lines[1])\n",
    "    maxi = litres_petrol[0]\n",
    "    for i in litres_petrol:\n",
    "        if i>maxi:\n",
    "            num = i\n",
    "            print(num)\n",
    "                    # print(\"The Maximum Litres of petrol is : \",i)\n",
    "print(litres_petrol)\n",
    "# print(maxi)\n",
    "    "
   ]
  },
  {
   "cell_type": "markdown",
   "metadata": {},
   "source": [
    "### Maximum Filled"
   ]
  },
  {
   "cell_type": "code",
   "execution_count": 131,
   "metadata": {},
   "outputs": [
    {
     "name": "stdout",
     "output_type": "stream",
     "text": [
      "The Thurday vehicle with the 55 litres of petrol was maximum filled on Day Heavy \n"
     ]
    }
   ],
   "source": [
    "with open(\"Petrolpumpdetails.txt\",\"r+\") as file:\n",
    "        lines = file.readlines()\n",
    "        for line in lines:\n",
    "                lines = line.strip().split(\",\")\n",
    "                if lines[1]==num:\n",
    "                        print(\"The {} vehicle with the {} litres of petrol was maximum filled on Day {} \".format(lines[0],lines[1],lines[2]))\n"
   ]
  },
  {
   "cell_type": "markdown",
   "metadata": {},
   "source": [
    "### Count of Vechile"
   ]
  },
  {
   "cell_type": "code",
   "execution_count": 139,
   "metadata": {},
   "outputs": [
    {
     "name": "stdout",
     "output_type": "stream",
     "text": [
      "['Heavy', 'Light']\n",
      "['Heavy', 'Light', 'Light', 'Heavy', 'Heavy', 'Light', 'Light']\n"
     ]
    }
   ],
   "source": [
    "with open(\"Petrolpumpdetails.txt\",\"r+\") as file:\n",
    "    lines = file.readlines()\n",
    "    vehiclelist = []\n",
    "    uniquevehicle = []\n",
    "    dicti = {}\n",
    "    count = 0\n",
    "    for line in lines:\n",
    "        lines = line.strip().split(\",\")\n",
    "        vehiclelist.append(lines[2])\n",
    "        for i in vehiclelist:\n",
    "            if i not in uniquevehicle:\n",
    "                uniquevehicle.append(i)\n",
    "\n",
    "    # for i in uniquevehicle:\n",
    "    #     for j in vehiclelist:\n",
    "    #         summ = count+j\n",
    "    print(uniquevehicle)\n",
    "    print(vehiclelist)\n",
    "        "
   ]
  },
  {
   "cell_type": "code",
   "execution_count": 176,
   "metadata": {},
   "outputs": [
    {
     "name": "stdout",
     "output_type": "stream",
     "text": [
      "{'Heavy': 3, 'Light': 7}\n"
     ]
    }
   ],
   "source": [
    "lis1 = ['Heavy', 'Light']\n",
    "vehiclelist = ['Heavy', 'Light', 'Light', 'Heavy', 'Heavy', 'Light', 'Light']\n",
    "dicti={}\n",
    "count = 0\n",
    "for item in lis1:\n",
    "    for j in range(len(vehiclelist)):\n",
    "        if vehiclelist[j]==item:\n",
    "            count+=1\n",
    "            dicti[item]=count\n",
    "print(dicti)\n",
    "        \n"
   ]
  },
  {
   "cell_type": "markdown",
   "metadata": {},
   "source": [
    "### Sort the output according to the given part.\n",
    "\n"
   ]
  },
  {
   "cell_type": "code",
   "execution_count": 1,
   "metadata": {},
   "outputs": [
    {
     "name": "stdout",
     "output_type": "stream",
     "text": [
      "['30', '33', '45', '45', '48', '50', '55']\n"
     ]
    }
   ],
   "source": [
    "with open(\"Petrolpumpdetails.txt\",\"r+\") as file:\n",
    "    lines = file.readlines()\n",
    "    litres_petrol = []\n",
    "    \n",
    "    for line in lines:\n",
    "        data = line.strip().split(\",\")\n",
    "        newdata = data[1]\n",
    "        litres_petrol.append(newdata)\n",
    "        new = litres_petrol.sort()\n",
    "    print(litres_petrol)\n",
    "        \n",
    "# print(litres_petrol)\n",
    "\n",
    "            \n",
    "\n",
    "\n",
    "# with open (\"Students.txt\",\"w+\") as file:\n",
    "#       liens = file.readlines()\n",
    "    "
   ]
  },
  {
   "cell_type": "code",
   "execution_count": 31,
   "metadata": {},
   "outputs": [
    {
     "ename": "ValueError",
     "evalue": "invalid literal for int() with base 10: 'Sunday'",
     "output_type": "error",
     "traceback": [
      "\u001b[1;31m---------------------------------------------------------------------------\u001b[0m",
      "\u001b[1;31mValueError\u001b[0m                                Traceback (most recent call last)",
      "\u001b[1;32md:\\PythonPractise\\Prac2.ipynb Cell 17\u001b[0m line \u001b[0;36m1\n\u001b[1;32m----> <a href='vscode-notebook-cell:/d%3A/PythonPractise/Prac2.ipynb#X22sZmlsZQ%3D%3D?line=0'>1</a>\u001b[0m l \u001b[39m=\u001b[39m \u001b[39mint\u001b[39;49m(newdata[\u001b[39m0\u001b[39;49m])\n\u001b[0;32m      <a href='vscode-notebook-cell:/d%3A/PythonPractise/Prac2.ipynb#X22sZmlsZQ%3D%3D?line=1'>2</a>\u001b[0m \u001b[39mwith\u001b[39;00m \u001b[39mopen\u001b[39m(\u001b[39m\"\u001b[39m\u001b[39mPetrolpumpdetails.txt\u001b[39m\u001b[39m\"\u001b[39m,\u001b[39m\"\u001b[39m\u001b[39mr+\u001b[39m\u001b[39m\"\u001b[39m) \u001b[39mas\u001b[39;00m file:\n\u001b[0;32m      <a href='vscode-notebook-cell:/d%3A/PythonPractise/Prac2.ipynb#X22sZmlsZQ%3D%3D?line=2'>3</a>\u001b[0m     lines \u001b[39m=\u001b[39m file\u001b[39m.\u001b[39mreadlines()\n",
      "\u001b[1;31mValueError\u001b[0m: invalid literal for int() with base 10: 'Sunday'"
     ]
    }
   ],
   "source": [
    "l = int(newdata[0])\n",
    "with open(\"Petrolpumpdetails.txt\",\"r+\") as file:\n",
    "    lines = file.readlines()\n",
    "for line in lines:\n",
    "    newdata = line.strip().split(\",\") \n",
    "    if newdata[i]<l:\n",
    "        l = newdata[i]   \n",
    "        print(newdata[0] , newdata[1] , newdata[2])"
   ]
  },
  {
   "cell_type": "code",
   "execution_count": null,
   "metadata": {},
   "outputs": [],
   "source": []
  },
  {
   "cell_type": "code",
   "execution_count": null,
   "metadata": {},
   "outputs": [],
   "source": [
    "        # print(i)\n",
    "        # print(newdata)\n",
    "#         litres_petrol.append(lines[1])\n",
    "#         # litres_petrol.sort()\n",
    "#     litres_petrol.sort()\n",
    "#     for i in litres_petrol:\n",
    "#         print(\"The {} filled the tank {} on {} vehicle type\".format(lines[0],lines[1],lines[2]))\n",
    "# # print(litres_petrol)"
   ]
  },
  {
   "cell_type": "code",
   "execution_count": 105,
   "metadata": {},
   "outputs": [
    {
     "name": "stdout",
     "output_type": "stream",
     "text": [
      "Loop 1: 1\n",
      "Loop 1: 2\n",
      "Loop 1: 3\n",
      "Loop 1: 4\n",
      "Loop 1: 5\n",
      "Loop 2: 1\n",
      "Loop 2: 2\n",
      "Loop 2: 3\n",
      "Loop 2: 4\n",
      "Loop 2: 5\n"
     ]
    }
   ],
   "source": [
    "my_list = [1, 2, 3, 4, 5]\n",
    "\n",
    "# Two loops that perform different operations\n",
    "for item in my_list:\n",
    "    print(\"Loop 1:\", item)\n",
    "\n",
    "for item in my_list:\n",
    "    print(\"Loop 2:\", item )\n"
   ]
  },
  {
   "cell_type": "code",
   "execution_count": 97,
   "metadata": {},
   "outputs": [
    {
     "name": "stdout",
     "output_type": "stream",
     "text": [
      "['50', '50', '50', '48', '48', '48', '30', '30', '30', '33', '33', '33', '55', '55', '55', '45', '45', '45', '45', '45', '45']\n"
     ]
    }
   ],
   "source": [
    "with open (\"Petrolpumpdetails.txt\",\"r+\") as file:\n",
    "    line = file.readlines()\n",
    "    litres_petrol = []\n",
    "    for lines in line:\n",
    "        lines = lines.strip().split(\",\")\n",
    "\n",
    "        for i in lines:\n",
    "            litres_petrol.append(lines[1])\n",
    "print(litres_petrol)\n",
    "    "
   ]
  },
  {
   "cell_type": "code",
   "execution_count": null,
   "metadata": {},
   "outputs": [],
   "source": []
  }
 ],
 "metadata": {
  "kernelspec": {
   "display_name": "Python 3",
   "language": "python",
   "name": "python3"
  },
  "language_info": {
   "codemirror_mode": {
    "name": "ipython",
    "version": 3
   },
   "file_extension": ".py",
   "mimetype": "text/x-python",
   "name": "python",
   "nbconvert_exporter": "python",
   "pygments_lexer": "ipython3",
   "version": "3.11.4"
  },
  "orig_nbformat": 4
 },
 "nbformat": 4,
 "nbformat_minor": 2
}
