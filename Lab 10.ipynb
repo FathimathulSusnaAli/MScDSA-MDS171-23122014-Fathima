{
 "cells": [
  {
   "cell_type": "markdown",
   "metadata": {},
   "source": [
    "### Write a python program that will read a csv file and print the mean, median, mode for a column of user choice"
   ]
  },
  {
   "cell_type": "code",
   "execution_count": 67,
   "metadata": {},
   "outputs": [
    {
     "ename": "IndexError",
     "evalue": "string index out of range",
     "output_type": "error",
     "traceback": [
      "\u001b[1;31m---------------------------------------------------------------------------\u001b[0m",
      "\u001b[1;31mIndexError\u001b[0m                                Traceback (most recent call last)",
      "\u001b[1;32md:\\Git\\MScDSA-MDS171-23122014-Fathima\\Lab 10.ipynb Cell 2\u001b[0m line \u001b[0;36m7\n\u001b[0;32m      <a href='vscode-notebook-cell:/d%3A/Git/MScDSA-MDS171-23122014-Fathima/Lab%2010.ipynb#W2sZmlsZQ%3D%3D?line=4'>5</a>\u001b[0m     lines \u001b[39m=\u001b[39m file\u001b[39m.\u001b[39mreadline()\n\u001b[0;32m      <a href='vscode-notebook-cell:/d%3A/Git/MScDSA-MDS171-23122014-Fathima/Lab%2010.ipynb#W2sZmlsZQ%3D%3D?line=5'>6</a>\u001b[0m     \u001b[39m# new = lines.strip().split(\",\")\u001b[39;00m\n\u001b[1;32m----> <a href='vscode-notebook-cell:/d%3A/Git/MScDSA-MDS171-23122014-Fathima/Lab%2010.ipynb#W2sZmlsZQ%3D%3D?line=6'>7</a>\u001b[0m     lis\u001b[39m.\u001b[39mappend(lines[\u001b[39m3\u001b[39;49m])\n\u001b[0;32m      <a href='vscode-notebook-cell:/d%3A/Git/MScDSA-MDS171-23122014-Fathima/Lab%2010.ipynb#W2sZmlsZQ%3D%3D?line=7'>8</a>\u001b[0m \u001b[39mprint\u001b[39m(lis)\n",
      "\u001b[1;31mIndexError\u001b[0m: string index out of range"
     ]
    }
   ],
   "source": [
    "with open (\"heart.csv\",\"r+\")as file:\n",
    "    lis = []\n",
    "    # user_input = int(input(\"Enter the Columns Number for which you would like to prin the Mean, Median and Mode\"))\n",
    "    for line in file:\n",
    "        lines = file.readline()\n",
    "        # new = lines.strip().split(\",\")\n",
    "        lis.append(lines[3])\n",
    "    print(lis)\n",
    "        "
   ]
  },
  {
   "cell_type": "code",
   "execution_count": null,
   "metadata": {},
   "outputs": [],
   "source": [
    "\n",
    "for i in column_array:\n",
    "    count = 0\n",
    "    count += i \n",
    "    print(count)"
   ]
  },
  {
   "cell_type": "code",
   "execution_count": null,
   "metadata": {},
   "outputs": [],
   "source": [
    "# age,sex,cp,trestbps,chol,fbs,restecg,thalach,exang,oldpeak,slope,ca,thal,target"
   ]
  },
  {
   "cell_type": "code",
   "execution_count": 101,
   "metadata": {},
   "outputs": [
    {
     "name": "stdout",
     "output_type": "stream",
     "text": [
      "['53', '61', '58', '55', '54', '43', '51', '34', '54', '58', '67', '63', '61', '58', '55', '50', '70', '46', '59', '57', '54', '46', '42', '66', '60', '57', '49', '55', '48', '57', '66', '59', '59', '42', '62', '61', '59', '47', '63', '52', '49', '38', '44', '59', '68', '62', '44', '45', '53', '76', '57', '47', '47', '62', '54', '53', '57', '61', '43', '42', '44', '65', '60', '53', '57', '51', '50', '58', '64', '41', '63', '34', '40', '41', '39', '54', '54', '54', '54', '41', '51', '48', '59', '57', '45', '56', '39', '56', '64', '56', '64', '42', '57', '56', '64', '56', '69', '59', '45', '50', '34', '64', '42', '41', '62', '67', '43', '49', '41', '54', '63', '39', '54', '44', '66', '56', '41', '64', '57', '62', '67', '60', '44', '46', '42', '45', '57', '62', '64', '66', '54', '55', '45', '67', '71', '44', '54', '56', '44', '41', '35', '64', '71', '71', '40', '58', '59', '67', '58', '52', '51', '60', '62', '44', '56', '48', '74', '42', '63', '53', '48', '66', '56', '57', '53', '63', '54', '58', '54', '60', '44', '52', '66', '54', '62', '50', '57', '46', '67', '53', '62', '53', '53', '48', '51', '55', '58', '66', '64', '52', '58', '58', '51', '77', '63', '45', '62', '66', '40', '63', '71', '46', '56', '58', '46', '56', '70', '41', '52', '65', '42', '58', '51', '57', '47', '65', '37', '57', '67', '58', '60', '57', '52', '55', '52', '49', '49', '69', '39', '51', '48', '43', '38', '47', '67', '64', '41', '57', '57', '58', '63', '35', '62', '65', '61', '57', '55', '59', '57', '46', '35', '45', '44', '41', '55', '43', '54', '49', '41', '61', '58', '61', '51', '62', '69', '65', '53', '76', '52', '64', '44', '59', '48', '67', '68', '54', '53', '67', '48', '67', '65', '44', '53', '41', '42', '60', '44', '43', '70', '58', '44', '43', '40', '59', '54', '63', '63', '61', '38', '63', '46', '63', '71', '42', '55', '55', '55', '50', '41', '65', '48', '61', '69', '38', '65', '49', '61', '53', '58', '58', '56', '65', '50', '64', '45', '41', '56', '41', '39', '59', '58', '58', '65', '57', '66', '52', '54', '58', '63', '68', '59', '43', '63', '58', '54', '55', '63', '35', '67', '35', '35', '57', '58', '56', '45', '35', '66', '70', '56', '52', '45', '68', '60', '56', '55', '52', '44', '50', '67', '52', '41', '58', '51', '60', '58', '65', '65', '48', '66', '61', '49', '58', '57', '68', '71', '45', '65', '51', '53', '34', '58', '56', '55', '51', '62', '54', '60', '62', '65', '43', '63', '52', '53', '44', '54', '57', '53', '58', '45', '58', '62', '54', '63', '57', '54', '58', '55', '49', '52', '51', '35', '59', '56', '61', '52', '37', '67', '46', '43', '51', '64', '52', '60', '41', '56', '39', '57', '60', '43', '59', '57', '48', '57', '57', '63', '64', '52', '62', '52', '59', '42', '59', '64', '50', '50', '58', '45', '46', '47', '38', '58', '54', '57', '42', '60', '40', '38', '56', '64', '49', '52', '65', '56', '54', '57', '62', '45', '62', '50', '69', '58', '57', '76', '60', '52', '52', '51', '39', '52', '45', '39', '64', '62', '57', '71', '60', '43', '44', '54', '67', '42', '52', '55', '56', '40', '45', '58', '58', '53', '47', '60', '50', '']\n"
     ]
    }
   ],
   "source": [
    "n = int(input())\n",
    "count = 0\n",
    "\n",
    "with open(\"heart.csv\")as file:\n",
    "    column_array = []\n",
    "    for i in file:\n",
    "        line = file.readline()\n",
    "        lines = line.strip().split(\",\")\n",
    "        column_array.append(lines[n])\n",
    "\n",
    "    \n",
    "        \n",
    "\n",
    "print(column_array)"
   ]
  },
  {
   "cell_type": "code",
   "execution_count": 106,
   "metadata": {},
   "outputs": [
    {
     "ename": "ValueError",
     "evalue": "invalid literal for int() with base 10: ''",
     "output_type": "error",
     "traceback": [
      "\u001b[1;31m---------------------------------------------------------------------------\u001b[0m",
      "\u001b[1;31mValueError\u001b[0m                                Traceback (most recent call last)",
      "\u001b[1;32md:\\Git\\MScDSA-MDS171-23122014-Fathima\\Lab 10.ipynb Cell 6\u001b[0m line \u001b[0;36m3\n\u001b[0;32m      <a href='vscode-notebook-cell:/d%3A/Git/MScDSA-MDS171-23122014-Fathima/Lab%2010.ipynb#X11sZmlsZQ%3D%3D?line=0'>1</a>\u001b[0m column_i \u001b[39m=\u001b[39m []\n\u001b[0;32m      <a href='vscode-notebook-cell:/d%3A/Git/MScDSA-MDS171-23122014-Fathima/Lab%2010.ipynb#X11sZmlsZQ%3D%3D?line=1'>2</a>\u001b[0m \u001b[39mfor\u001b[39;00m  i \u001b[39min\u001b[39;00m column_array:\n\u001b[1;32m----> <a href='vscode-notebook-cell:/d%3A/Git/MScDSA-MDS171-23122014-Fathima/Lab%2010.ipynb#X11sZmlsZQ%3D%3D?line=2'>3</a>\u001b[0m     element \u001b[39m=\u001b[39m \u001b[39mint\u001b[39;49m(i)\n\u001b[0;32m      <a href='vscode-notebook-cell:/d%3A/Git/MScDSA-MDS171-23122014-Fathima/Lab%2010.ipynb#X11sZmlsZQ%3D%3D?line=3'>4</a>\u001b[0m     column_i\u001b[39m.\u001b[39mappend(element)\n\u001b[0;32m      <a href='vscode-notebook-cell:/d%3A/Git/MScDSA-MDS171-23122014-Fathima/Lab%2010.ipynb#X11sZmlsZQ%3D%3D?line=5'>6</a>\u001b[0m \u001b[39mprint\u001b[39m(column_i)\n",
      "\u001b[1;31mValueError\u001b[0m: invalid literal for int() with base 10: ''"
     ]
    }
   ],
   "source": [
    "column_i = []\n",
    "for  i in column_array:\n",
    "    element = int(i)\n",
    "    column_i.append(element)\n",
    "\n",
    "\n"
   ]
  },
  {
   "cell_type": "code",
   "execution_count": 88,
   "metadata": {},
   "outputs": [
    {
     "name": "stdout",
     "output_type": "stream",
     "text": [
      "[]\n"
     ]
    }
   ],
   "source": [
    "n = int(input(\"Enter the Column\"))\n",
    "with open(\"heart.csv\") as file:\n",
    "    for lines in line:\n",
    "        line = file.readlines()\n",
    "        print(line[2])\n",
    "        \n",
    "        \n",
    "        # lis = []\n",
    "        # lis.append(line[n])\n",
    "print(lis)"
   ]
  },
  {
   "cell_type": "code",
   "execution_count": null,
   "metadata": {},
   "outputs": [],
   "source": []
  }
 ],
 "metadata": {
  "kernelspec": {
   "display_name": "Python 3",
   "language": "python",
   "name": "python3"
  },
  "language_info": {
   "codemirror_mode": {
    "name": "ipython",
    "version": 3
   },
   "file_extension": ".py",
   "mimetype": "text/x-python",
   "name": "python",
   "nbconvert_exporter": "python",
   "pygments_lexer": "ipython3",
   "version": "3.11.4"
  }
 },
 "nbformat": 4,
 "nbformat_minor": 2
}
