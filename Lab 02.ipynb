{
 "cells": [
  {
   "cell_type": "markdown",
   "metadata": {},
   "source": [
    "# Concept for LAB:02\n",
    "\n",
    "##### The concept used here is a pre-defined function which is primary(), this could provide or analyze the inputs. The very first checking is through taking the following steps:\n",
    "\n",
    "##### - User input and checks wheather the name or the input is \"q\" else returns the Mainlist.\n",
    "##### - Now if the Entry is already present in the list then this gives or prints the Statements saying already present.\n",
    "##### - Now moving on with the Validation, Here the entry by Alex is consisting of any numeric charecters in the string and returns print. statement to enter properly.\n",
    "##### - Else this appends the Name to the list.\n",
    "##### - The analysis can print the smallest name and the largest name from the list."
   ]
  },
  {
   "cell_type": "code",
   "execution_count": 129,
   "metadata": {},
   "outputs": [],
   "source": [
    "Name_Collectors=[]  #Main List for appending elements"
   ]
  },
  {
   "cell_type": "code",
   "execution_count": 133,
   "metadata": {},
   "outputs": [],
   "source": [
    "# Code\n",
    "def primary():\n",
    "    UserInput = input(\"*** Enter the Name You would like to Enter ***\")\n",
    "    if UserInput ==\"q\":  # Checking if the entry is \"q\" else returning the Mainlist\n",
    "            print(\"*** Not accepted, Please Enter the Proper Input ***\")\n",
    "            return Name_Collectors\n",
    "   \n",
    "        \n",
    "    if UserInput in Name_Collectors:     #If an existing name comes, the program says the name exists.\n",
    "        print(\"*** The Name Already Exists, Please Re-Enter the Name... ***\")\n",
    "        \n",
    "    else:\n",
    "        # Validation, Alex makes a lot of mistakes; your program also has to do the necessary validations.\n",
    "        # Here Alex might enter the wrong inputs as in numbers in the string.\n",
    "        Validation = UserInput.isalpha()\n",
    "        if Validation == True:\n",
    "            Name_Collectors.append(UserInput)\n",
    "        else:\n",
    "            print(\"*** Enter the Input Correctly ***\")\n",
    "\n",
    "   \n",
    "\n"
   ]
  },
  {
   "cell_type": "code",
   "execution_count": 136,
   "metadata": {},
   "outputs": [],
   "source": [
    "primary()  #Calling the function\n",
    "\n"
   ]
  },
  {
   "cell_type": "markdown",
   "metadata": {},
   "source": [
    "### Analyzation (Checks the Smallest and Greatest) ###"
   ]
  },
  {
   "cell_type": "code",
   "execution_count": 137,
   "metadata": {},
   "outputs": [
    {
     "name": "stdout",
     "output_type": "stream",
     "text": [
      "*** The Analysis for Smallest is Fathima and Largest the  is HelloWorld ***\n",
      "['Fathima', 'HelloWorld']\n"
     ]
    }
   ],
   "source": [
    "Largest = max(Name_Collectors, key=len)\n",
    "Smallest = min(Name_Collectors, key=len)\n",
    "\n",
    "# Analysis\n",
    "print(\"*** The Analysis for Smallest is {} and Largest the  is {} ***\".format(Smallest,Largest))\n",
    "print(Name_Collectors)\n"
   ]
  },
  {
   "cell_type": "code",
   "execution_count": null,
   "metadata": {},
   "outputs": [],
   "source": []
  },
  {
   "cell_type": "code",
   "execution_count": null,
   "metadata": {},
   "outputs": [],
   "source": []
  }
 ],
 "metadata": {
  "kernelspec": {
   "display_name": "Python 3",
   "language": "python",
   "name": "python3"
  },
  "language_info": {
   "codemirror_mode": {
    "name": "ipython",
    "version": 3
   },
   "file_extension": ".py",
   "mimetype": "text/x-python",
   "name": "python",
   "nbconvert_exporter": "python",
   "pygments_lexer": "ipython3",
   "version": "3.11.4"
  },
  "orig_nbformat": 4
 },
 "nbformat": 4,
 "nbformat_minor": 2
}
