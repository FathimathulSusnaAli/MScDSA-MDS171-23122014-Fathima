{
 "cells": [
  {
   "cell_type": "markdown",
   "metadata": {},
   "source": [
    "# **LAB:06**\n",
    "### **Concept Used**\n",
    "##### **Vowel Counter**\n",
    "\n",
    "##### The concept used is function that counts the input string's alphabets and gives the count of the vowels:\n",
    "\n",
    "##### `1.` Define a function that takes the user input from the user(Converted into uppercase), The occured vowels are stored into a new list collectedvowels variable.\n",
    "##### `2.` Counter is set such that the number of occurance of each alphabets from the collected vowels string could be counted.\n",
    "##### `3.` Take the percentage by finding the length of the collectedvowels divided with the length of the total alphabets present in the list multiplied by 100.\n"
   ]
  },
  {
   "cell_type": "markdown",
   "metadata": {},
   "source": [
    "#### Question: Write a program for collecting a string from the user and counting the number of vowels.\n",
    "\n",
    "##### 1. Print the total count of vowels.\n",
    "##### 2. Print each vowel and its count.\n",
    "##### 3. Calculate the percentage of vowels in the given string.\n",
    "##### Note: Make use of functions and format your output accordingly."
   ]
  },
  {
   "cell_type": "code",
   "execution_count": 88,
   "metadata": {},
   "outputs": [],
   "source": [
    "user = input(\"Enter the String/ Word: \")  #userinput\n",
    "userinput = user.upper() \n",
    "\n"
   ]
  },
  {
   "cell_type": "code",
   "execution_count": 97,
   "metadata": {},
   "outputs": [],
   "source": [
    "def vowels(userinput):                        #takes the input and takes the vowels from the input, hence calculating the occurance and the length of them\n",
    "    count = 0\n",
    "    collectedvowels = []\n",
    "    vowels = [\"A\",\"E\",\"I\",\"O\",\"U\"]\n",
    "    for i in userinput:\n",
    "        if i in vowels:\n",
    "            collectedvowels.append(i)\n",
    "    count_list=[]\n",
    "    a,b,c,d,e=0,0,0,0,0\n",
    "    for i in collectedvowels:\n",
    "        if i == 'A':\n",
    "            a+=1\n",
    "        elif  i == \"E\":\n",
    "            b+=1\n",
    "        elif i == \"I\":\n",
    "            c+=0\n",
    "        elif i == \"O\":\n",
    "            d+=0\n",
    "        elif i == \"I\":\n",
    "            e+=0\n",
    "            \n",
    "    \n",
    "      \n",
    "    print(\"\\n....................................................................................................................\")\n",
    "    print(\"\\n************************************** The Analysis from the Question ********************************************\\n\")\n",
    "        \n",
    "    print(\"The collected Vowels from the user input is : \",collectedvowels)\n",
    "    print(\"The Total Count of Vowels present in the List is:  \",len(collectedvowels))\n",
    "    print(\"The occurance of A from the given list is: \", a)\n",
    "    print(\"The occurance of E from the given list is: \", b)\n",
    "    print(\"The occurance of I from the given list is: \", c)\n",
    "    print(\"The occurance of O from the given list is: \", d)\n",
    "    print(\"The occurance of U from the given list is: \", e)\n",
    "    percentage = (len(collectedvowels)/len(userinput))*100\n",
    "    print(\"The Percentage of the Vowels from the given String is: \",percentage)\n",
    "    print(\"\\n....................................................................................................................\")\n",
    "    \n"
   ]
  },
  {
   "cell_type": "code",
   "execution_count": 98,
   "metadata": {},
   "outputs": [
    {
     "name": "stdout",
     "output_type": "stream",
     "text": [
      "\n",
      "..................................................................................................................\n",
      "\n",
      "************************************** The Analysis from the Question********************************************\n",
      "\n",
      "The collected Vowels from the user input is :  ['A', 'E', 'E']\n",
      "The Total Count of Vowels present in the List is:   3\n",
      "The occurance of A from the given list is:  1\n",
      "The occurance of E from the given list is:  2\n",
      "The occurance of I from the given list is:  0\n",
      "The occurance of O from the given list is:  0\n",
      "The occurance of U from the given list is:  0\n",
      "The Percentage of the Vowels from the given String is:  50.0\n",
      "\n",
      "..................................................................................................................\n"
     ]
    }
   ],
   "source": [
    "vowels(userinput)"
   ]
  },
  {
   "cell_type": "markdown",
   "metadata": {},
   "source": [
    "# Thank You!"
   ]
  }
 ],
 "metadata": {
  "kernelspec": {
   "display_name": "Python 3",
   "language": "python",
   "name": "python3"
  },
  "language_info": {
   "codemirror_mode": {
    "name": "ipython",
    "version": 3
   },
   "file_extension": ".py",
   "mimetype": "text/x-python",
   "name": "python",
   "nbconvert_exporter": "python",
   "pygments_lexer": "ipython3",
   "version": "3.11.4"
  },
  "orig_nbformat": 4
 },
 "nbformat": 4,
 "nbformat_minor": 2
}
