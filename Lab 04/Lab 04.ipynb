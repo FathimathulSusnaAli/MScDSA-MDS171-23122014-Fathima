{
 "cells": [
  {
   "cell_type": "markdown",
   "metadata": {},
   "source": [
    "# **LAB:04**\n",
    "### **Concept Used**\n",
    "##### **A Taste of Success: The Restaurant Management System**\n",
    "\n",
    "##### The concepts used are adding the entries into the list or the database for managing the order effectively :\n",
    "\n",
    "##### `1.` The function is being created and the input or the required details are entered into the collection.\n",
    "##### `2.` The prices for the items are added and according to the input the price is displayed.\n",
    "##### `3.` The analysis part consists of the netsales, amount of guest count.\n",
    "##### `4.` Being a sample data, the sample analysis has been made, for larger set of data the proper analysis can be derived.\n",
    "##### `5.` The maximum ordered item is also identified and analysed."
   ]
  },
  {
   "cell_type": "code",
   "execution_count": 23,
   "metadata": {},
   "outputs": [
    {
     "name": "stdout",
     "output_type": "stream",
     "text": [
      "180\n"
     ]
    },
    {
     "data": {
      "text/plain": [
       "True"
      ]
     },
     "execution_count": 23,
     "metadata": {},
     "output_type": "execute_result"
    }
   ],
   "source": [
    "# The input has been taken using the function and manulally added the item price, which helps the people to display the price.\n",
    "\n",
    "def writeMyDetails(order,storeid,ordernum,guestcount, itemcount, BillAmount):\n",
    "    fileMyDetails = open(\"Restaurant Management System\"+\".txt\",\"a+\")\n",
    "    fileMyDetails.write(\"\\n--------------------------------------------------------------------------------------------------------\")\n",
    "    fileMyDetails.write(\"\\nOrderID\\t:\\t\"+order)\n",
    "    fileMyDetails.write(\"\\nStoreID\\t:\\t\"+storeid)\n",
    "    fileMyDetails.write(\"\\nOrderNumber\\t:\\t\"+ordernum)\n",
    "    fileMyDetails.write(\"\\nGuestCount\\t:\\t\"+guestcount)\n",
    "    fileMyDetails.write(\"\\nItemCount\\t:\\t\"+itemcount)\n",
    "    fileMyDetails.write(\"\\nDishes\\t:\\t\"+Dishes)\n",
    "    fileMyDetails.write(\"\\nBillAmount\\t:\\t\"+str(BillAmount))\n",
    "    fileMyDetails.write(\"\\n--------------------------------------------------------------------------------------------------------\")\n",
    "    fileMyDetails.close()\n",
    "    return True\n",
    "\n",
    "order = input(\"Enter You Order: \")\n",
    "storeid = input(\"Enter you StoreId: \")\n",
    "ordernum = input(\"Enter the OrderNumber: \")\n",
    "guestcount = input(\"Enter the GuestCount: \")\n",
    "itemcount = input(\"Enter the ItemCount: \")\n",
    "Dishes = input(\"Enter the Dish You would like to order: \")\n",
    "if Dishes==\"Biriyani\":\n",
    "    BillAmount = 180\n",
    "    print(BillAmount)\n",
    "elif Dishes == \"Pasta\":\n",
    "    BillAmount = 280\n",
    "    print(BillAmount)\n",
    "elif Dishes == \"Majboos\":\n",
    "    BillAmount = 420\n",
    "    print(BillAmount)\n",
    "elif Dishes == \"Chicken Curry with Chapathi \":\n",
    "    BillAmount = 290\n",
    "    print(BillAmount)\n",
    "elif Dishes == \"Veg Curry with Chapathi\":\n",
    "    BillAmount = 270\n",
    "    print(BillAmount)\n",
    "    \n",
    "else:\n",
    "    print(\"Please Enter the Valid Input\")\n",
    "\n",
    "\n",
    " \n",
    "\n",
    "    \n",
    "\n",
    "writeMyDetails(order,storeid,ordernum,guestcount,itemcount,BillAmount)\n",
    "\n"
   ]
  },
  {
   "cell_type": "code",
   "execution_count": 38,
   "metadata": {},
   "outputs": [
    {
     "name": "stdout",
     "output_type": "stream",
     "text": [
      "\n",
      "......................................................................................................................\n",
      "\n",
      "**************************************************** Analyzation ****************************************************\n",
      "\n",
      "The Total Business or the Netsales is: 640\n",
      "\n",
      "......................................................................................................................\n"
     ]
    }
   ],
   "source": [
    "# Initialize a variable to store the total guest count, the total business is found.\n",
    "netsales = 0\n",
    "\n",
    "with open(\"Restaurant Management System.txt\", \"r\") as fileMyDetails:\n",
    "    for line in fileMyDetails:\n",
    "        if \"BillAmount\" in line:\n",
    "            salecount = int(line.split(\":\")[1].strip())\n",
    "            netsales += salecount\n",
    "print(\"\\n......................................................................................................................\")\n",
    "print(\"\\n**************************************************** Analyzation ****************************************************\\n\")\n",
    "\n",
    "print(\"The Total Business or the Netsales is:\",netsales)\n",
    "print(\"\\n......................................................................................................................\")\n",
    "\n"
   ]
  },
  {
   "cell_type": "code",
   "execution_count": 37,
   "metadata": {},
   "outputs": [
    {
     "name": "stdout",
     "output_type": "stream",
     "text": [
      "\n",
      "......................................................................................................................\n",
      "\n",
      "**************************************************** Analyzation ****************************************************\n",
      "\n",
      "The Total Guest Count is:  6\n",
      "\n",
      "......................................................................................................................\n"
     ]
    }
   ],
   "source": [
    "# Initialize a variable to store the total guest count, the total guest count is found.\n",
    "total_guest_count = 0\n",
    "\n",
    "with open(\"Restaurant Management System.txt\", \"r\") as fileMyDetails:\n",
    "    for line in fileMyDetails:\n",
    "        if \"GuestCount\" in line:\n",
    "            guest_count = int(line.split(\":\")[1].strip())\n",
    "            total_guest_count += guest_count\n",
    "       \n",
    "\n",
    "print(\"\\n......................................................................................................................\")\n",
    "print(\"\\n**************************************************** Analyzation ****************************************************\\n\")\n",
    "\n",
    "print(\"The Total Guest Count is: \",total_guest_count)\n",
    "print(\"\\n......................................................................................................................\")\n"
   ]
  },
  {
   "cell_type": "code",
   "execution_count": 36,
   "metadata": {},
   "outputs": [
    {
     "name": "stdout",
     "output_type": "stream",
     "text": [
      "\n",
      "......................................................................................................................\n",
      "\n",
      "**************************************************** Analyzation ****************************************************\n",
      "\n",
      "\n",
      "The dish that occurred the most is: Biriyani\n",
      "The Number of occurrences: 2\n",
      "\n",
      "......................................................................................................................\n"
     ]
    }
   ],
   "source": [
    "#Finding the maximum occured item from the provided data.\n",
    "dish_occurrences = {}\n",
    "\n",
    "with open(\"Restaurant Management System.txt\", \"r\") as fileMyDetails:\n",
    "    for line in fileMyDetails:\n",
    "        if \"Dish\" in line:\n",
    "            dish_name = line.split(\":\")[1].strip()\n",
    "            if dish_name in dish_occurrences:\n",
    "                dish_occurrences[dish_name] += 1\n",
    "            else:\n",
    "                dish_occurrences[dish_name] = 1\n",
    "\n",
    "most_occurred_dish = max(dish_occurrences, key=dish_occurrences.get)\n",
    "most_occurrences = dish_occurrences[most_occurred_dish]\n",
    "\n",
    "print(\"\\n......................................................................................................................\")\n",
    "print(\"\\n**************************************************** Analyzation ****************************************************\\n\")\n",
    "print(\"\\nThe dish that occurred the most is:\", most_occurred_dish)\n",
    "print(\"The Number of occurrences:\", most_occurrences)\n",
    "print(\"\\n......................................................................................................................\")\n",
    "\n"
   ]
  }
 ],
 "metadata": {
  "kernelspec": {
   "display_name": "Python 3",
   "language": "python",
   "name": "python3"
  },
  "language_info": {
   "codemirror_mode": {
    "name": "ipython",
    "version": 3
   },
   "file_extension": ".py",
   "mimetype": "text/x-python",
   "name": "python",
   "nbconvert_exporter": "python",
   "pygments_lexer": "ipython3",
   "version": "3.11.4"
  },
  "orig_nbformat": 4
 },
 "nbformat": 4,
 "nbformat_minor": 2
}
