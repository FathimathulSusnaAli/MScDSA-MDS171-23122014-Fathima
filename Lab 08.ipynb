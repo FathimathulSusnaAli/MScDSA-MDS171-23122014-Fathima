{
 "cells": [
  {
   "cell_type": "code",
   "execution_count": 39,
   "metadata": {},
   "outputs": [
    {
     "name": "stdout",
     "output_type": "stream",
     "text": [
      "[3, [], 3, [], 3, []]\n"
     ]
    }
   ],
   "source": [
    "\n",
    "Mainlist = []\n",
    "list1 = []\n",
    "# print(list1[0])\n",
    "n = int(input(\"PLease Enter the Number of Columns you want: \"))\n",
    "m = int(input(\"Enter the number of Rows You would like to Enter: \"))\n",
    "for i in range(n):\n",
    "    input_user = int(input(\"Enter the Numbers in column wise: \"))\n",
    "    list1.append(input_user)\n",
    "    list1.append(Mainlist)\n",
    "\n",
    "\n",
    "# print(Mainlist)\n",
    "    \n",
    "\n",
    "\n",
    "    # print(i)\n",
    "    # # for j in i:\n",
    "    #     # print(j)\n",
    "    #     # userinput = int(input(\"Enter the number\"))\n",
    "        \n",
    "\n",
    "print(list1)"
   ]
  },
  {
   "cell_type": "code",
   "execution_count": null,
   "metadata": {},
   "outputs": [],
   "source": [
    "list1 = [[1,2,3],[1,2,3],[1,2,3]]\n",
    "list2 = [[2,3,4],[2,3,4],[2,3,4]]\n",
    "\n",
    "m =int(input(\"Enter the no of Rows: \"))\n",
    "n = int(int(input(\"Enter the no Columns: \")))\n",
    "p = int(int(input(\"Enter the no Columns: \")))\n",
    "q = int(int(input(\"Enter the no Columns: \")))\n",
    "\n",
    "if n == p:\n",
    "    \n"
   ]
  },
  {
   "cell_type": "code",
   "execution_count": null,
   "metadata": {},
   "outputs": [],
   "source": [
    "mainlist= []\n",
    "\n",
    "for i in range(m):\n",
    "    "
   ]
  }
 ],
 "metadata": {
  "kernelspec": {
   "display_name": "Python 3",
   "language": "python",
   "name": "python3"
  },
  "language_info": {
   "codemirror_mode": {
    "name": "ipython",
    "version": 3
   },
   "file_extension": ".py",
   "mimetype": "text/x-python",
   "name": "python",
   "nbconvert_exporter": "python",
   "pygments_lexer": "ipython3",
   "version": "3.11.4"
  },
  "orig_nbformat": 4
 },
 "nbformat": 4,
 "nbformat_minor": 2
}
