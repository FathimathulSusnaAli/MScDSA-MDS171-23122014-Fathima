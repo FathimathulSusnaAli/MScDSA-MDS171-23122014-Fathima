{
 "cells": [
  {
   "cell_type": "markdown",
   "metadata": {},
   "source": [
    "# LAB 01 \n",
    "## Basics of Markdown"
   ]
  },
  {
   "cell_type": "code",
   "execution_count": 2,
   "metadata": {},
   "outputs": [
    {
     "name": "stdout",
     "output_type": "stream",
     "text": [
      "Name : Fathimathul Susna ShoukkathAli\n",
      "Register Number : 23122014\n",
      "Class : 1MSc Data Science\n",
      "Email : fathimathul.ali@science.christuniversity.in\n"
     ]
    }
   ],
   "source": [
    "print(\"Name : Fathimathul Susna ShoukkathAli\")\n",
    "print(\"Register Number : 23122014\")\n",
    "print(\"Class : 1MSc Data Science\")\n",
    "print(\"Email : fathimathul.ali@science.christuniversity.in\")"
   ]
  }
 ],
 "metadata": {
  "kernelspec": {
   "display_name": "Python 3",
   "language": "python",
   "name": "python3"
  },
  "language_info": {
   "codemirror_mode": {
    "name": "ipython",
    "version": 3
   },
   "file_extension": ".py",
   "mimetype": "text/x-python",
   "name": "python",
   "nbconvert_exporter": "python",
   "pygments_lexer": "ipython3",
   "version": "3.11.4"
  },
  "orig_nbformat": 4
 },
 "nbformat": 4,
 "nbformat_minor": 2
}
