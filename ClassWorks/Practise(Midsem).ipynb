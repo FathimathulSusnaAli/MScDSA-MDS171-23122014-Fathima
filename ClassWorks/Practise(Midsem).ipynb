{
 "cells": [
  {
   "cell_type": "markdown",
   "metadata": {},
   "source": [
    "Create a Library class with books and customers:\n",
    "\n",
    "1. Create a Library class with attributes for maintaining a list of books and a list of customers.\n",
    "\n",
    "2. Implement methods for adding books to the library, adding customers, and allowing customers to borrow and return books.\n",
    "\n",
    "3. Create a CSV file to store the book and customer details.\n",
    "\n",
    "4. Implement methods to write the book and customer data to the CSV file and read data from it.\n",
    "\n",
    "5. Use the file handling techniques in Python to save and load the library's data to and from the CSV file.\n",
    "\n",
    "6. Implement a method to display the list of books, customers, and the borrowing history.\n",
    "\n",
    "7. This task will help you practice object-oriented programming, data persistence, and working with CSV files."
   ]
  },
  {
   "cell_type": "markdown",
   "metadata": {},
   "source": [
    "Question:\n",
    "\n",
    "Create a `Library` class with the following features:\n",
    "\n",
    "1. Define the `Library` class with attributes to maintain a list of books and a list of customers.\n",
    "\n",
    "2. Implement methods within the `Library` class for the following functionalities:\n",
    "   - `add_book(book_title, author, quantity)`: Add books to the library's inventory. Each book should have a title, author, and a quantity available.\n",
    "   - `add_customer(customer_name)`: Add customers to the library by specifying their names.\n",
    "   - `borrow_book(customer_name, book_title, quantity)`: Allow customers to borrow books. Specify the customer's name, the book title, and the quantity they want to borrow. Make sure to update the book's quantity.\n",
    "   - `return_book(customer_name, book_title, quantity)`: Enable customers to return books they borrowed. Specify the customer's name, the book title, and the quantity they are returning.\n",
    "\n",
    "3. Create a CSV file to store the book and customer details.\n",
    "\n",
    "4. Implement methods to write the book and customer data to the CSV file and read data from it.\n",
    "\n",
    "5. Utilize Python's file handling techniques to save and load the library's data to and from the CSV file.\n",
    "\n",
    "6. Develop a method called `display_library` to display the following information:\n",
    "   - List of books in the library (title, author, quantity available).\n",
    "   - List of customers.\n",
    "   - Borrowing history, including which customer borrowed which books and the quantity borrowed.\n",
    "\n",
    "This task will help you practice object-oriented programming, data persistence, and working with CSV files."
   ]
  },
  {
   "cell_type": "code",
   "execution_count": 26,
   "metadata": {},
   "outputs": [],
   "source": [
    "class library:\n",
    "    def __init__(self):\n",
    "        self.shelf = []\n",
    "        self.customer = []\n",
    "\n",
    "    def add_book(self,userinput):                                                     #hence storing the books as per the userinputs\n",
    "        for i in range(userinput):\n",
    "            input1 = input(\"Enter the Author Name: \")\n",
    "            input2 = input(\"Enter the Author Name: \")\n",
    "            input3 = int(input(\"Enter the Quantity: \"))\n",
    "            self.shelf.append({\"book_title\": input1,\"author\": input2,\"quantity\":input3})\n",
    "            \n",
    "    def add_customers(self,userinput2):\n",
    "        for i in range(userinput2):\n",
    "            input4 = input(\"Enter the customer name you would like to add: \")\n",
    "            self.customer.append(input4)\n",
    "\n",
    "    def borrow_book(self):\n",
    "        input5 = input(\"Enter the Customer Name: \")\n",
    "        input6 = input(\"Enter the Book Title: \")\n",
    "        input7 = int(input(\"Enter the Quantity: \"))\n",
    "        for i in self.shelf:\n",
    "            if i[\"book_title\"]==input6:\n",
    "                new_value = i[\"quantity\"]-input7\n",
    "                i[\"quantity\"] = new_value\n",
    "        print(self.shelf)\n",
    "                \n",
    "    def return_book(self):\n",
    "        input5 = input(\"Enter the Customer Name: \")\n",
    "        input6 = input(\"Enter the Book Title: \")\n",
    "        input7 = int(input(\"Enter the Quantity: \"))\n",
    "        for i in self.shelf:\n",
    "            if i[\"book_title\"]==input6:\n",
    "                new_value = i[\"quantity\"]+input7\n",
    "                i[\"quantity\"] = new_value\n",
    "        print(self.shelf)\n",
    "   \n",
    "    \n",
    "            "
   ]
  },
  {
   "cell_type": "code",
   "execution_count": 27,
   "metadata": {},
   "outputs": [],
   "source": [
    "userinput = int(input(\"Enter the input: \"))\n",
    "obj1 = library()\n",
    "obj1.add_book(userinput)"
   ]
  },
  {
   "cell_type": "code",
   "execution_count": 29,
   "metadata": {},
   "outputs": [],
   "source": [
    "userinput2 = int(input(\"Enter the input: \"))\n",
    "obj1.add_customers(userinput2)"
   ]
  },
  {
   "cell_type": "code",
   "execution_count": 30,
   "metadata": {},
   "outputs": [
    {
     "name": "stdout",
     "output_type": "stream",
     "text": [
      "[{'book_title': 'Michael', 'author': 'Alex', 'quantity': 6}, {'book_title': 'Sky is Pink', 'author': 'Rai Kapoor', 'quantity': 7}, {'book_title': 'Criminal Law', 'author': 'Hendry L', 'quantity': 6}]\n"
     ]
    }
   ],
   "source": [
    "obj1.borrow_book()"
   ]
  },
  {
   "cell_type": "code",
   "execution_count": 31,
   "metadata": {},
   "outputs": [
    {
     "name": "stdout",
     "output_type": "stream",
     "text": [
      "[{'book_title': 'Michael', 'author': 'Alex', 'quantity': 6}, {'book_title': 'Sky is Pink', 'author': 'Rai Kapoor', 'quantity': 9}, {'book_title': 'Criminal Law', 'author': 'Hendry L', 'quantity': 6}]\n"
     ]
    }
   ],
   "source": [
    "obj1.return_book()"
   ]
  },
  {
   "cell_type": "code",
   "execution_count": 32,
   "metadata": {},
   "outputs": [],
   "source": [
    "shelf = [{\"book_title\": \"Sky is Pink\",\"author\": \"Rai kapoor\",\"quantity\":5},{\"book_title\": \"Tribal Village\",\"author\": \"Mehak Mehta\",\"quantity\":7},{\"book_title\": \"Criminal law\", \"author\":\"Vijay Ram\",\"quantity\":8}]\n",
    "# input7 = int(input(\"Enter the Quantity: \"))\n"
   ]
  }
 ],
 "metadata": {
  "kernelspec": {
   "display_name": "Python 3",
   "language": "python",
   "name": "python3"
  },
  "language_info": {
   "codemirror_mode": {
    "name": "ipython",
    "version": 3
   },
   "file_extension": ".py",
   "mimetype": "text/x-python",
   "name": "python",
   "nbconvert_exporter": "python",
   "pygments_lexer": "ipython3",
   "version": "3.11.4"
  }
 },
 "nbformat": 4,
 "nbformat_minor": 2
}
