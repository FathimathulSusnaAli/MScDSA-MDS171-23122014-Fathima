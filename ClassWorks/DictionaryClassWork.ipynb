{
 "cells": [
  {
   "cell_type": "code",
   "execution_count": 1,
   "metadata": {},
   "outputs": [],
   "source": [
    "my_dict = {\"Names\":\"Alwin\",\"Age\":55,\"BooleanVal\":True}"
   ]
  },
  {
   "cell_type": "code",
   "execution_count": 6,
   "metadata": {},
   "outputs": [],
   "source": [
    "my_dict[\"Names\"] = \"New Name\""
   ]
  },
  {
   "cell_type": "code",
   "execution_count": 7,
   "metadata": {},
   "outputs": [
    {
     "name": "stdout",
     "output_type": "stream",
     "text": [
      "New Name\n"
     ]
    }
   ],
   "source": [
    "print(my_dict[\"Names\"])"
   ]
  },
  {
   "cell_type": "code",
   "execution_count": 9,
   "metadata": {},
   "outputs": [
    {
     "data": {
      "text/plain": [
       "dict_values(['New Name', 55, True])"
      ]
     },
     "execution_count": 9,
     "metadata": {},
     "output_type": "execute_result"
    }
   ],
   "source": [
    "my_dict.keys()\n",
    "my_dict.values()"
   ]
  },
  {
   "cell_type": "code",
   "execution_count": 6,
   "metadata": {},
   "outputs": [],
   "source": [
    "student = {\n",
    "    \"mscdsa\":{\n",
    "        \"01\":{\n",
    "            \"name\":\"dhruv\",\n",
    "            \"phone\":\"8089712625\"\n",
    "        },\n",
    "        \"02\":{\n",
    "            \"name\":\"naveen\",\n",
    "            \"phone\":\"569856325\"\n",
    "        }\n",
    "    }\n",
    "}\n"
   ]
  },
  {
   "cell_type": "code",
   "execution_count": null,
   "metadata": {},
   "outputs": [],
   "source": []
  },
  {
   "cell_type": "code",
   "execution_count": 16,
   "metadata": {},
   "outputs": [
    {
     "name": "stdout",
     "output_type": "stream",
     "text": [
      "{'mscdsa': {'01': {'name': 'dhruv', 'phone': '8089712625'}, '02': {'name': 'naveen', 'phone': '569856325'}}}\n",
      "{'01': {'name': 'dhruv', 'phone': '8089712625'}, '02': {'name': 'naveen', 'phone': '569856325'}}\n",
      "{'01': {'name': 'dhruv', 'phone': '8089712625'}, '02': {'name': 'naveen', 'phone': '569856325'}}\n",
      "\n"
     ]
    }
   ],
   "source": [
    "for item in student:\n",
    "    print(student)\n",
    "    for key in student.keys():\n",
    "        print(student[key])\n",
    "        for key2 in student.keys():\n",
    "            print(student[key])\n",
    "    print()\n",
    "        # print(\"{} 's phone number is {} \".format(student[\"mscdsa\"][item][\"name\"],student[\"mscdsa\"][item][\"phone\"]))\n",
    "# print(\"{} 's phone number is {} \".format(student[\"mscdsa\"][\"02\"][\"name\"],student[\"mscdsa\"][\"02\"][\"phone\"]))"
   ]
  },
  {
   "cell_type": "code",
   "execution_count": null,
   "metadata": {},
   "outputs": [],
   "source": [
    "for items in student.keys():\n",
    "    print\n"
   ]
  },
  {
   "cell_type": "code",
   "execution_count": 11,
   "metadata": {},
   "outputs": [
    {
     "name": "stdout",
     "output_type": "stream",
     "text": [
      "{'mscdsa': {'01': {'name': 'dhruv', 'phone': '8089712625'}, '02': {'name': 'naveen', 'phone': '569856325'}}}\n"
     ]
    }
   ],
   "source": [
    "print(student)"
   ]
  },
  {
   "cell_type": "code",
   "execution_count": 12,
   "metadata": {},
   "outputs": [
    {
     "name": "stdout",
     "output_type": "stream",
     "text": [
      "Category: personal_info\n",
      "  name: John Doe\n",
      "  age: 30\n",
      "  address:\n",
      "    street: 123 Main St\n",
      "    city: Anytown\n",
      "    state: CA\n",
      "    zip: 12345\n",
      "Category: employment_info\n",
      "  employer: ABC Inc.\n",
      "  position: Software Engineer\n",
      "  work_history:\n",
      "    company: XYZ Corp\n",
      "    position: Intern\n",
      "    year: 2010\n",
      "    company: DEF Ltd\n",
      "    position: Junior Developer\n",
      "    year: 2012\n",
      "    company: ABC Inc.\n",
      "    position: Software Engineer\n",
      "    year: 2015\n"
     ]
    }
   ],
   "source": [
    "# Define the nested dictionary\n",
    "nested_dict = {\n",
    "    'personal_info': {\n",
    "        'name': 'John Doe',\n",
    "        'age': 30,\n",
    "        'address': {\n",
    "            'street': '123 Main St',\n",
    "            'city': 'Anytown',\n",
    "            'state': 'CA',\n",
    "            'zip': '12345'\n",
    "        }\n",
    "    },\n",
    "    'employment_info': {\n",
    "        'employer': 'ABC Inc.',\n",
    "        'position': 'Software Engineer',\n",
    "        'work_history': [\n",
    "            {\n",
    "                'company': 'XYZ Corp',\n",
    "                'position': 'Intern',\n",
    "                'year': 2010\n",
    "            },\n",
    "            {\n",
    "                'company': 'DEF Ltd',\n",
    "                'position': 'Junior Developer',\n",
    "                'year': 2012\n",
    "            },\n",
    "            {\n",
    "                'company': 'ABC Inc.',\n",
    "                'position': 'Software Engineer',\n",
    "                'year': 2015\n",
    "            }\n",
    "        ]\n",
    "    }\n",
    "}\n",
    "\n",
    "# # Iterate through the nested dictionary using for loops\n",
    "# for category, data in nested_dict.items():\n",
    "#     print(f\"Category: {category}\")\n",
    "#     if isinstance(data, dict):\n",
    "#         for key, value in data.items():\n",
    "#             if isinstance(value, dict):\n",
    "#                 print(f\"  {key}:\")\n",
    "#                 for sub_key, sub_value in value.items():\n",
    "#                     print(f\"    {sub_key}: {sub_value}\")\n",
    "#             elif isinstance(value, list):\n",
    "#                 print(f\"  {key}:\")\n",
    "#                 for item in value:\n",
    "#                     for sub_key, sub_value in item.items():\n",
    "#                         print(f\"    {sub_key}: {sub_value}\")\n",
    "#             else:\n",
    "#                 print(f\"  {key}: {value}\")\n",
    "#     elif isinstance(data, list):\n",
    "#         print(\"  Work History:\")\n",
    "#         for item in data:\n",
    "#             for key, value in item.items():\n",
    "#                 print(f\"    {key}: {value}\")\n",
    "#     else:\n",
    "#         print(f\"{category}: {data}\")\n"
   ]
  }
 ],
 "metadata": {
  "kernelspec": {
   "display_name": "Python 3",
   "language": "python",
   "name": "python3"
  },
  "language_info": {
   "codemirror_mode": {
    "name": "ipython",
    "version": 3
   },
   "file_extension": ".py",
   "mimetype": "text/x-python",
   "name": "python",
   "nbconvert_exporter": "python",
   "pygments_lexer": "ipython3",
   "version": "3.11.4"
  },
  "orig_nbformat": 4
 },
 "nbformat": 4,
 "nbformat_minor": 2
}
