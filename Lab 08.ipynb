{
 "cells": [
  {
   "cell_type": "code",
   "execution_count": null,
   "metadata": {},
   "outputs": [],
   "source": [
    "# Initialize an empty dictionary to store matrices\n",
    "matrix_dict = {'matrix 1': None, 'matrix 2': None, 'result matrix': None}\n",
    "\n",
    "\n",
    "\n",
    "# Function to collect a matrix and store it in the dictionary\n",
    "def collect_matrix(matrix_name):\n",
    "    matrix = []\n",
    "    rows = int(input(f\"Enter the number of rows for {matrix_name}: \"))\n",
    "    columns = int(input(f\"Enter the number of columns for {matrix_name}: \"))\n",
    "    for i in range(rows):\n",
    "        row = []\n",
    "        for j in range(columns):\n",
    "            element = float(input(f\"Enter the element at row {i + 1}, column {j + 1}: \"))\n",
    "            row.append(element)\n",
    "        matrix.append(row)\n",
    "    matrix_dict[matrix_name] = matrix\n",
    "\n",
    "# Function to process matrices and store the result in the dictionary\n",
    "def process_matrices():\n",
    "    if matrix_dict['matrix 1'] is None or matrix_dict['matrix 2'] is None:\n",
    "        print(\"Matrix 1 and Matrix 2 must be entered first.\")\n",
    "        return\n",
    "\n",
    "    # Your matrix processing logic here, for example, matrix multiplication.\n",
    "    # You can replace this with your actual matrix processing code.\n",
    "    result_matrix = [[0 for _ in range(len(matrix_dict['matrix 2'][0]))] for _ in range(len(matrix_dict['matrix 1']))]\n",
    "\n",
    "    for i in range(len(matrix_dict['matrix 1'])):\n",
    "        for j in range(len(matrix_dict['matrix 2'][0])):\n",
    "            for k in range(len(matrix_dict['matrix 2'])):\n",
    "                result_matrix[i][j] += matrix_dict['matrix 1'][i][k] * matrix_dict['matrix 2'][k][j]\n",
    "\n",
    "    matrix_dict['result matrix'] = result_matrix\n",
    "\n",
    "# Function to display the result in a properly formatted file\n",
    "def export_to_file(file_name):\n",
    "    with open(file_name, 'w') as file:\n",
    "        file.write(\"Result Matrix:\\n\")\n",
    "        for row in matrix_dict['result matrix']:\n",
    "            file.write('\\t'.join(map(str, row)) + '\\n')\n",
    "\n",
    "# Menu function\n",
    "def menu():\n",
    "    while True:\n",
    "        print(\"\\nMenu:\")\n",
    "        print(\"1. Enter Matrix 1\")\n",
    "        print(\"2. Enter Matrix 2\")\n",
    "        print(\"3. Calculate\")\n",
    "        print(\"4. Export to File\")\n",
    "        print(\"5. Exit\")\n",
    "\n",
    "        choice = input(\"Enter your choice: \")\n",
    "\n",
    "        if choice == '1':\n",
    "            collect_matrix('matrix 1')\n",
    "        elif choice == '2':\n",
    "            collect_matrix('matrix 2')\n",
    "        elif choice == '3':\n",
    "            process_matrices()\n",
    "        elif choice == '4':\n",
    "            file_name = input(\"Enter the file name to export the result: \")\n",
    "            export_to_file(file_name)\n",
    "            print(f\"Result has been exported to {file_name}\")\n",
    "        elif choice == '5':\n",
    "            break\n",
    "        else:\n",
    "            print(\"Invalid choice. Please select a valid option.\")\n",
    "\n",
    "if __name__ == \"__main__\":\n",
    "    menu()\n"
   ]
  },
  {
   "cell_type": "code",
   "execution_count": 39,
   "metadata": {},
   "outputs": [
    {
     "name": "stdout",
     "output_type": "stream",
     "text": [
      "[3, [], 3, [], 3, []]\n"
     ]
    }
   ],
   "source": [
    "\n",
    "Mainlist = []\n",
    "list1 = []\n",
    "# print(list1[0])\n",
    "n = int(input(\"PLease Enter the Number of Columns you want: \"))\n",
    "m = int(input(\"Enter the number of Rows You would like to Enter: \"))\n",
    "for i in range(n):\n",
    "    input_user = int(input(\"Enter the Numbers in column wise: \"))\n",
    "    list1.append(input_user)\n",
    "    list1.append(Mainlist)\n",
    "\n",
    "\n",
    "# print(Mainlist)\n",
    "    \n",
    "\n",
    "\n",
    "    # print(i)\n",
    "    # # for j in i:\n",
    "    #     # print(j)\n",
    "    #     # userinput = int(input(\"Enter the number\"))\n",
    "        \n",
    "\n",
    "print(list1)"
   ]
  },
  {
   "cell_type": "code",
   "execution_count": null,
   "metadata": {},
   "outputs": [],
   "source": [
    "list1 = [[1,2,3],[1,2,3],[1,2,3]]\n",
    "list2 = [[2,3,4],[2,3,4],[2,3,4]]\n",
    "\n",
    "m =int(input(\"Enter the no of Rows: \"))\n",
    "n = int(int(input(\"Enter the no Columns: \")))\n",
    "p = int(int(input(\"Enter the no Columns: \")))\n",
    "q = int(int(input(\"Enter the no Columns: \")))\n",
    "\n",
    "if n == p:\n",
    "    \n"
   ]
  },
  {
   "cell_type": "code",
   "execution_count": 41,
   "metadata": {},
   "outputs": [
    {
     "name": "stdout",
     "output_type": "stream",
     "text": [
      "[[2, 3, 3], [5, 6, 5], [2, 2, 3]]\n"
     ]
    }
   ],
   "source": [
    "main_list = []\n",
    "n = int(input(\"Please Enter the Number of Columns you want: \"))\n",
    "m = int(input(\"Enter the number of Rows You would like to Enter: \"))\n",
    "\n",
    "for i in range(m):\n",
    "    row = []\n",
    "    \n",
    "    for j in range(n):\n",
    "        input_user = int(input(\"Enter a number: \"))\n",
    "        row.append(input_user)\n",
    "    main_list.append(row)\n",
    "\n",
    "print(main_list)\n"
   ]
  },
  {
   "cell_type": "code",
   "execution_count": null,
   "metadata": {},
   "outputs": [],
   "source": [
    "mainlist= []\n",
    "\n",
    "for i in range(m):\n",
    "    "
   ]
  }
 ],
 "metadata": {
  "kernelspec": {
   "display_name": "Python 3",
   "language": "python",
   "name": "python3"
  },
  "language_info": {
   "codemirror_mode": {
    "name": "ipython",
    "version": 3
   },
   "file_extension": ".py",
   "mimetype": "text/x-python",
   "name": "python",
   "nbconvert_exporter": "python",
   "pygments_lexer": "ipython3",
   "version": "3.11.4"
  },
  "orig_nbformat": 4
 },
 "nbformat": 4,
 "nbformat_minor": 2
}
