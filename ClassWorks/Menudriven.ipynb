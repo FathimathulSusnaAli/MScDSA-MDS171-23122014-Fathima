{
 "cells": [
  {
   "cell_type": "code",
   "execution_count": 8,
   "metadata": {},
   "outputs": [
    {
     "name": "stdout",
     "output_type": "stream",
     "text": [
      "1. Enter a Name\n",
      "2. List the Names\n",
      "3. Search for a Name\n",
      "4. Exit\n",
      "You have Entered choice:  1\n",
      "1. Enter a Name\n",
      "2. List the Names\n",
      "3. Search for a Name\n",
      "4. Exit\n",
      "You have Entered choice:  2\n",
      "******************************\n",
      "Names in the List\n",
      "******************************\n",
      "******************************\n",
      "Naveen\n",
      "******************************\n",
      "1. Enter a Name\n",
      "2. List the Names\n",
      "3. Search for a Name\n",
      "4. Exit\n",
      "You have Entered choice:  3\n",
      "The name searched is Naveen, present in the list,\n",
      "1. Enter a Name\n",
      "2. List the Names\n",
      "3. Search for a Name\n",
      "4. Exit\n",
      "You have Entered choice:  4\n"
     ]
    }
   ],
   "source": [
    "namelist = []\n",
    "search = input(\"Enter the Name to be searched: \")\n",
    "def storeName(namelist):\n",
    "    name = input(\"Enter the name to be saved\")\n",
    "    name = name.strip().title()\n",
    "    namelist.append(name)    \n",
    "    return name\n",
    "def listName(namelist):\n",
    "    print(\"*\"*30)\n",
    "    print(\"Names in the List\")\n",
    "    print(\"*\"*30)\n",
    "    print(\"*\"*30)\n",
    "    for name in namelist:\n",
    "        print(name)\n",
    "    print(\"*\"*30)\n",
    "\n",
    "def searchName(search,namelist):\n",
    "    search = search.strip().title()\n",
    "    for i in namelist:\n",
    "        if search == i:\n",
    "            print(\"The name searched is {}, present in the list,\".format(search))\n",
    "\n",
    "\n",
    "print(\"*\"*30)\n",
    "print(\"Name Mangement System\")\n",
    "print(\"*\"*30)  \n",
    "while True:\n",
    "    print(\"1. Enter a Name\")\n",
    "    print(\"2. List the Names\")\n",
    "    print(\"3. Search for a Name\")\n",
    "    print(\"4. Exit\")\n",
    "    choice = input(\"Enter Your Choice \")\n",
    "    print(\"You have Entered choice: \",choice)\n",
    "    if choice == \"1\":\n",
    "        storeName(namelist)\n",
    "    elif choice == \"2\":\n",
    "        listName(namelist)\n",
    "    elif choice == \"3\":\n",
    "        searchName (search,namelist)\n",
    "    elif choice == \"4\":\n",
    "        break\n",
    "    else:\n",
    "        print(\"Invalid Opion Entered\")\n",
    "\n",
    "    \n"
   ]
  },
  {
   "cell_type": "markdown",
   "metadata": {},
   "source": [
    "details of students in class\n",
    "\n",
    "{\n",
    "    Name:\n",
    "    Reg No:\n",
    "    Phone:\n",
    "    Email\n",
    "}\n",
    "Search RegNo & print all the details\n",
    "\n",
    "check if the reg no., exists replace all the details with teh new one"
   ]
  },
  {
   "cell_type": "code",
   "execution_count": null,
   "metadata": {},
   "outputs": [],
   "source": [
    "namelist = {}\n",
    "def NameList():\n",
    "    name = input(\"Enter the Name: \")\n",
    "    reg_no = int(input(\"Enter the Register Number\"))\n",
    "    phone = input(\"Enter the Phone\")\n",
    "    email = input(\"ENter the Email\")\n",
    "    name = {}\n",
    "    name[\"Name\"]= name\n",
    "    name[\"RegNo\"]= reg_no\n",
    "    name[\"PhoneNumber\"]= phone\n",
    "    name[\"Email\"]= email\n",
    "\n",
    "def ListNames():\n",
    "    for items in NameList.keys():\n",
    "        print(namelist[items])\n",
    "    \n",
    "    # namelist[reg_no] = name\n",
    "    # name = name.strip().title()\n",
    "    # namelist.append(name)\n",
    "    \n",
    "\n",
    "\n",
    "while True:\n",
    "    print(\"1. Enter a Name\")\n",
    "    print(\"2. List the Names\")\n",
    "    print(\"3. Search for a Name\")\n",
    "    print(\"4. Exit\")"
   ]
  },
  {
   "cell_type": "code",
   "execution_count": 14,
   "metadata": {},
   "outputs": [
    {
     "name": "stdout",
     "output_type": "stream",
     "text": [
      "{'details': {'key1': 'value1', 'key2': 'value2'}, 'details2': {'key1': 'value1', 'key2': 'value2'}}\n"
     ]
    }
   ],
   "source": [
    "outer_dict = {\n",
    "    \"details\" : {\n",
    "        'key1': 'value1',\n",
    "        'key2': 'value2'\n",
    "    },\n",
    "    \"details2\" : {\n",
    "        'key1':'value1',\n",
    "        'key2':'value2'\n",
    "    }\n",
    "}\n",
    "print(outer_dict)\n",
    "\n",
    "\n"
   ]
  },
  {
   "cell_type": "markdown",
   "metadata": {},
   "source": []
  },
  {
   "cell_type": "code",
   "execution_count": null,
   "metadata": {},
   "outputs": [],
   "source": [
    "newlist = {}\n",
    "newdictionary = {}\n",
    "\n",
    "def Details():\n",
    "    count = 0\n",
    "    name = input(\"Enter the name \")\n",
    "    phone_num = input(\"Enter the Number\")\n",
    "    newdictionary[\"Name\"]= name\n",
    "    newdictionary[\"Phone Number\"]=phone_num\n",
    "    count+=1\n",
    "    newlist[count] = newdictionary\n",
    "\n",
    "\n",
    "\n",
    "\n",
    "\n",
    "\n",
    "def edit(edit):\n",
    "    input_edit = input(\"Enter the key or the number in which the item is stored, to be Edited: \")\n",
    "    if input_edit in newlist:\n",
    "        newlist[input_edit][newdictionary]\n",
    "\n",
    "\n",
    "        \n",
    "\n",
    "\n",
    "\n",
    "\n",
    "\n",
    "\n",
    "while True:\n",
    "    print(\"1. Please Add the Details\")\n",
    "    print(\"2. Please provide the Details to Delete\")\n",
    "    print(\"3. For searching the Details\")\n"
   ]
  },
  {
   "cell_type": "code",
   "execution_count": 10,
   "metadata": {},
   "outputs": [],
   "source": [
    "class students:\n",
    "    def __init__(self) :\n",
    "        self.students = []\n",
    "        self.dicti1 = {}\n",
    "\n",
    "\n",
    "    def newentry(self,input1):\n",
    "        for i in range(input1):\n",
    "            input2 = input(\"Enter the Name\")\n",
    "            Mark1 = int(input(\"Mark1\")) \n",
    "            Mark2 = int(input(\"Mark2\")) \n",
    "            Mark3 = int(input(\"Mark3\"))\n",
    "            temp1 = [{\"Subject1\":Mark1,\"Subject2\":Mark2,\"Subject3\":Mark3}]\n",
    "            self.dicti1[input2] = temp1\n",
    "        self.students.append(self.dicti1)\n",
    "\n",
    "    def listNames(self):\n",
    "        print(self.students)\n",
    "\n",
    "    def editNames(self):\n",
    "        input3 = input(\"Enter the Name to Edit the details\")\n",
    "        for i in range(len(self.students)):\n",
    "            for i in self.students[i]:\n",
    "                if i ==input3:\n",
    "                    input4 = input(\"Enter the Name\")\n",
    "                    Mark1 = int(input(\"Mark1\")) \n",
    "                    Mark2 = int(input(\"Mark2\")) \n",
    "                    Mark3 = int(input(\"Mark3\"))\n",
    "                    temp1 = [{\"Subject1\":Mark1,\"Subject2\":Mark2,\"Subject3\":Mark3}]\n",
    "\n",
    "\n",
    "while True:\n",
    "    print(\"1.Enter the NAME\")\n",
    "    print(\"2. List All the Names\")\n",
    "    print(\"3. Edit the Name\")\n",
    "    print(\"4. Remove the Name\")\n",
    "    inpu = int(input())\n",
    "    if inpu == 1:\n",
    "        \n",
    "                    "
   ]
  },
  {
   "cell_type": "code",
   "execution_count": 35,
   "metadata": {},
   "outputs": [
    {
     "ename": "RuntimeError",
     "evalue": "dictionary changed size during iteration",
     "output_type": "error",
     "traceback": [
      "\u001b[1;31m---------------------------------------------------------------------------\u001b[0m",
      "\u001b[1;31mRuntimeError\u001b[0m                              Traceback (most recent call last)",
      "\u001b[1;32md:\\PythonClassNotes\\Menudriven.ipynb Cell 8\u001b[0m line \u001b[0;36m5\n\u001b[0;32m      <a href='vscode-notebook-cell:/d%3A/PythonClassNotes/Menudriven.ipynb#X12sZmlsZQ%3D%3D?line=1'>2</a>\u001b[0m input3 \u001b[39m=\u001b[39m \u001b[39minput\u001b[39m(\u001b[39m\"\u001b[39m\u001b[39mEnter the Name to Edit the details\u001b[39m\u001b[39m\"\u001b[39m)\n\u001b[0;32m      <a href='vscode-notebook-cell:/d%3A/PythonClassNotes/Menudriven.ipynb#X12sZmlsZQ%3D%3D?line=3'>4</a>\u001b[0m \u001b[39mfor\u001b[39;00m i \u001b[39min\u001b[39;00m \u001b[39mrange\u001b[39m(\u001b[39mlen\u001b[39m(new)):\n\u001b[1;32m----> <a href='vscode-notebook-cell:/d%3A/PythonClassNotes/Menudriven.ipynb#X12sZmlsZQ%3D%3D?line=4'>5</a>\u001b[0m     \u001b[39mfor\u001b[39;00m j \u001b[39min\u001b[39;00m new[i]:\n\u001b[0;32m      <a href='vscode-notebook-cell:/d%3A/PythonClassNotes/Menudriven.ipynb#X12sZmlsZQ%3D%3D?line=5'>6</a>\u001b[0m         \u001b[39mif\u001b[39;00m j \u001b[39m==\u001b[39minput3:\n\u001b[0;32m      <a href='vscode-notebook-cell:/d%3A/PythonClassNotes/Menudriven.ipynb#X12sZmlsZQ%3D%3D?line=6'>7</a>\u001b[0m             input4 \u001b[39m=\u001b[39m \u001b[39minput\u001b[39m(\u001b[39m\"\u001b[39m\u001b[39mEnter the Name\u001b[39m\u001b[39m\"\u001b[39m)\n",
      "\u001b[1;31mRuntimeError\u001b[0m: dictionary changed size during iteration"
     ]
    }
   ],
   "source": [
    "new = [{'Fathima': [{'Subject1': 43, 'Subject2': 32, 'Subject3': 65}]},{'Fath': [{'Subject1': 43, 'Subject2': 32, 'Subject3': 65}]}]\n",
    "input3 = input(\"Enter the Name to Edit the details\")\n",
    "\n",
    "for i in range(len(new)):\n",
    "    for j in new[i]:\n",
    "        if j ==input3:\n",
    "            input4 = input(\"Enter the Name\")\n",
    "            Mark1 = int(input(\"Mark1\")) \n",
    "            Mark2 = int(input(\"Mark2\")) \n",
    "            Mark3 = int(input(\"Mark3\"))\n",
    "            temp1 = [{\"Subject1\":Mark1,\"Subject2\":Mark2,\"Subject3\":Mark3}]\n",
    "            new[i][\"input4\"]=temp1\n",
    "\n",
    "\n",
    "        "
   ]
  },
  {
   "cell_type": "code",
   "execution_count": 12,
   "metadata": {},
   "outputs": [
    {
     "name": "stdout",
     "output_type": "stream",
     "text": [
      "[{'naveen': [{'Subject1': 12, 'Subject2': 13, 'Subject3': 14}], 'Tanuja': [{'Subject1': 11, 'Subject2': 12, 'Subject3': 11}]}]\n"
     ]
    }
   ],
   "source": [
    "obj1 = students()\n",
    "obj1.newentry(2)\n",
    "obj1.listNames()"
   ]
  },
  {
   "cell_type": "code",
   "execution_count": null,
   "metadata": {},
   "outputs": [],
   "source": []
  },
  {
   "cell_type": "code",
   "execution_count": null,
   "metadata": {},
   "outputs": [],
   "source": []
  }
 ],
 "metadata": {
  "kernelspec": {
   "display_name": "Python 3",
   "language": "python",
   "name": "python3"
  },
  "language_info": {
   "codemirror_mode": {
    "name": "ipython",
    "version": 3
   },
   "file_extension": ".py",
   "mimetype": "text/x-python",
   "name": "python",
   "nbconvert_exporter": "python",
   "pygments_lexer": "ipython3",
   "version": "3.11.4"
  },
  "orig_nbformat": 4
 },
 "nbformat": 4,
 "nbformat_minor": 2
}
